{
 "cells": [
  {
   "cell_type": "markdown",
   "id": "9aeb530825ebc688",
   "metadata": {},
   "source": [
    "https://dev.to/puritye/how-to-plot-an-audio-file-using-matplotlib-pbb"
   ]
  },
  {
   "cell_type": "code",
   "execution_count": null,
   "id": "b5d7129e2966dda6",
   "metadata": {
    "ExecuteTime": {
     "end_time": "2024-05-04T23:58:10.005770Z",
     "start_time": "2024-05-04T23:58:10.002511Z"
    }
   },
   "outputs": [],
   "source": [
    "import wave\n",
    "import matplotlib.pyplot as plt \n",
    "import numpy as np"
   ]
  },
  {
   "cell_type": "code",
   "execution_count": null,
   "id": "b0bdbb363ff6921b",
   "metadata": {
    "ExecuteTime": {
     "end_time": "2024-05-04T23:58:10.058937Z",
     "start_time": "2024-05-04T23:58:10.055605Z"
    }
   },
   "outputs": [],
   "source": [
    "obj = wave.open('Aurora.wav', 'rb')\n",
    "obj"
   ]
  },
  {
   "cell_type": "code",
   "execution_count": null,
   "id": "8aa68cd580ae725f",
   "metadata": {
    "ExecuteTime": {
     "end_time": "2024-05-04T23:58:10.063821Z",
     "start_time": "2024-05-04T23:58:10.060043Z"
    }
   },
   "outputs": [],
   "source": [
    "print('Parameters:', obj.getparams())"
   ]
  },
  {
   "cell_type": "code",
   "execution_count": null,
   "id": "initial_id",
   "metadata": {
    "ExecuteTime": {
     "end_time": "2024-05-04T23:58:10.068510Z",
     "start_time": "2024-05-04T23:58:10.065043Z"
    },
    "collapsed": true
   },
   "outputs": [],
   "source": [
    "sample_freq = obj.getframerate()\n",
    "sample_freq"
   ]
  },
  {
   "cell_type": "code",
   "execution_count": null,
   "id": "80a743c374b2ee99",
   "metadata": {
    "ExecuteTime": {
     "end_time": "2024-05-04T23:58:10.077558Z",
     "start_time": "2024-05-04T23:58:10.074881Z"
    }
   },
   "outputs": [],
   "source": [
    "n_samples = obj.getnframes()\n",
    "n_samples"
   ]
  },
  {
   "cell_type": "code",
   "execution_count": null,
   "id": "bd81e0fc92b8ceed",
   "metadata": {
    "ExecuteTime": {
     "end_time": "2024-05-04T23:58:10.110963Z",
     "start_time": "2024-05-04T23:58:10.094576Z"
    }
   },
   "outputs": [],
   "source": [
    "signal_wave = obj.readframes(n_samples)\n",
    "signal_wave"
   ]
  },
  {
   "cell_type": "code",
   "execution_count": null,
   "id": "8f58a7111ed95187",
   "metadata": {
    "ExecuteTime": {
     "end_time": "2024-05-04T23:58:10.134881Z",
     "start_time": "2024-05-04T23:58:10.131771Z"
    }
   },
   "outputs": [],
   "source": [
    "duration = n_samples/sample_freq\n",
    "duration"
   ]
  },
  {
   "cell_type": "code",
   "execution_count": null,
   "id": "e919e437db212a23",
   "metadata": {
    "ExecuteTime": {
     "end_time": "2024-05-04T23:58:10.168928Z",
     "start_time": "2024-05-04T23:58:10.164955Z"
    }
   },
   "outputs": [],
   "source": [
    "signal_array = np.frombuffer(signal_wave, dtype=np.int16)\n",
    "signal_array"
   ]
  },
  {
   "cell_type": "code",
   "execution_count": null,
   "id": "5f527ca1b5b45e55",
   "metadata": {
    "ExecuteTime": {
     "end_time": "2024-05-04T23:58:10.224504Z",
     "start_time": "2024-05-04T23:58:10.188159Z"
    }
   },
   "outputs": [],
   "source": [
    "time = np.linspace(0, duration, num=n_samples)\n",
    "time"
   ]
  },
  {
   "cell_type": "markdown",
   "id": "c262eb726e173827",
   "metadata": {},
   "source": [
    "https://www.geeksforgeeks.org/plotting-various-sounds-on-graphs-using-python-and-matplotlib/"
   ]
  },
  {
   "cell_type": "code",
   "execution_count": null,
   "id": "a4983a35a61f8ae5",
   "metadata": {
    "ExecuteTime": {
     "end_time": "2024-05-05T00:13:01.483932Z",
     "start_time": "2024-05-05T00:12:57.895824Z"
    }
   },
   "outputs": [],
   "source": [
    "\n",
    "# imports \n",
    "import matplotlib.pyplot as plt \n",
    "import numpy as np \n",
    "import wave, sys \n",
    "\n",
    "# shows the sound waves \n",
    "def visualize(path: str): \n",
    "    \n",
    "    # reading the audio file \n",
    "    raw = wave.open(path) \n",
    "    # reads all the frames  \n",
    "    # -1 indicates all or max frames \n",
    "    signal = raw.readframes(-1) \n",
    "    signal = np.frombuffer(signal, dtype =\"int16\") \n",
    "\n",
    "    # gets the frame rate \n",
    "    f_rate = raw.getframerate() \n",
    "\n",
    "    # to Plot the x-axis in seconds  \n",
    "    # you need get the frame rate  \n",
    "    # and divide by size of your signal \n",
    "    # to create a Time Vector  \n",
    "    # spaced linearly with the size  \n",
    "    # of the audio file \n",
    "    time = np.linspace( \n",
    "        0, # start \n",
    "        len(signal) / f_rate, \n",
    "        num = len(signal) \n",
    "    ) \n",
    "\n",
    "    # using matplotlib to plot \n",
    "    # creates a new figure \n",
    "    plt.figure(figsize=(20, 10))\n",
    "    plt.figure(1) \n",
    "\n",
    "    # title of the plot \n",
    "    plt.title(\"Sound Wave\") \n",
    "\n",
    "    # label of x-axis \n",
    "    plt.xlabel(\"Time\") \n",
    "\n",
    "    # actual plotting \n",
    "    plt.plot(time, signal) \n",
    "\n",
    "    # shows the plot  \n",
    "    # in new window \n",
    "    plt.show() \n",
    "\n",
    "    # you can also save \n",
    "    # the plot using \n",
    "    # plt.savefig('filename') \n",
    "\n",
    "\n",
    "if __name__ == \"__main__\": \n",
    "    \n",
    "    # gets the command line Value \n",
    "    path = './Aurora.wav'\n",
    "\n",
    "    visualize(path) "
   ]
  }
 ],
 "metadata": {
  "kernelspec": {
   "display_name": "Python 3",
   "language": "python",
   "name": "python3"
  },
  "language_info": {
   "codemirror_mode": {
    "name": "ipython",
    "version": 3
   },
   "file_extension": ".py",
   "mimetype": "text/x-python",
   "name": "python",
   "nbconvert_exporter": "python",
   "pygments_lexer": "ipython3",
   "version": "3.11.9"
  }
 },
 "nbformat": 4,
 "nbformat_minor": 5
}
