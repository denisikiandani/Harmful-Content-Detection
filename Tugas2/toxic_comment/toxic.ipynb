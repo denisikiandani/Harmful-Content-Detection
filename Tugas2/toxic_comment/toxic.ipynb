{
 "cells": [
  {
   "cell_type": "code",
   "execution_count": 1,
   "id": "3098d9e5-b6c4-4d8f-848c-e30f8730183b",
   "metadata": {},
   "source": [
    "import os\n",
    "import pandas as pd\n",
    "import numpy as np\n",
    "import tensorflow as tf"
   ],
   "outputs": []
  },
  {
   "cell_type": "code",
   "execution_count": 2,
   "id": "b1593501-9b63-4a8d-80c2-10337666a104",
   "metadata": {
    "scrolled": true
   },
   "source": [
    "np.expand_dims??"
   ],
   "outputs": []
  },
  {
   "cell_type": "code",
   "execution_count": 3,
   "id": "e6ff5019-bc64-4b2e-af0e-f05d54e75a80",
   "metadata": {},
   "source": [
    "# kernel python 3.10"
   ],
   "outputs": []
  },
  {
   "cell_type": "code",
   "execution_count": 4,
   "id": "64cb49b4-922f-472e-9101-32961d71640b",
   "metadata": {
    "scrolled": true
   },
   "source": [
    "print(\"GPU Available:\", tf.config.list_physical_devices('GPU'))"
   ],
   "outputs": []
  },
  {
   "cell_type": "code",
   "execution_count": 5,
   "id": "70e3c361-e520-498a-887b-13570e3ad31b",
   "metadata": {},
   "source": [
    "df = pd.read_csv(os.path.join('jigsaw-toxic-comment-classification-challenge','train.csv', 'train.csv'))"
   ],
   "outputs": []
  },
  {
   "cell_type": "code",
   "execution_count": 6,
   "id": "33fd5b1d-babd-494c-9356-e3628bef3e53",
   "metadata": {},
   "source": [
    "df.head()"
   ],
   "outputs": []
  },
  {
   "cell_type": "code",
   "execution_count": 7,
   "id": "fd7a7060-8235-4615-870d-307b65837002",
   "metadata": {},
   "source": [
    "df.iloc[3]['comment_text']"
   ],
   "outputs": []
  },
  {
   "cell_type": "code",
   "execution_count": 8,
   "id": "afa6652f-f064-4aa6-b69a-2e70e6a908a8",
   "metadata": {},
   "source": [
    "df[df.columns[2:]].iloc[3]"
   ],
   "outputs": []
  },
  {
   "cell_type": "markdown",
   "id": "6d70c577-c87a-4dfe-bd12-92f8f6e9a5cb",
   "metadata": {},
   "source": [
    "# 1. Preprocess"
   ]
  },
  {
   "cell_type": "code",
   "execution_count": 9,
   "id": "2f016b7c-91c4-4d60-8bca-cf6fa7db9bd6",
   "metadata": {},
   "source": [
    "from tensorflow.keras.layers import TextVectorization #tokenization|"
   ],
   "outputs": []
  },
  {
   "cell_type": "code",
   "execution_count": 10,
   "id": "5f767c49-7bc9-4f52-906c-921e8a53d1b6",
   "metadata": {
    "scrolled": true
   },
   "source": [
    "TextVectorization??"
   ],
   "outputs": []
  },
  {
   "cell_type": "code",
   "execution_count": 11,
   "id": "af1d68cc-4363-47b5-a06e-f7f058684a44",
   "metadata": {},
   "source": [
    "X = df['comment_text']\n",
    "y = df[df.columns[2:]].values"
   ],
   "outputs": []
  },
  {
   "cell_type": "code",
   "execution_count": 12,
   "id": "4d81f44c-ea65-4de0-a272-4bfaf4cc8c7b",
   "metadata": {
    "scrolled": true
   },
   "source": [
    "df.columns"
   ],
   "outputs": []
  },
  {
   "cell_type": "code",
   "execution_count": 13,
   "id": "e86c249d-955a-402d-97da-ab49ba375ba8",
   "metadata": {
    "scrolled": true
   },
   "source": [
    "X"
   ],
   "outputs": []
  },
  {
   "cell_type": "code",
   "execution_count": 14,
   "id": "9aaed8ae-5db8-4ed9-8a5f-feb0cc8e98c2",
   "metadata": {
    "scrolled": true
   },
   "source": [
    "y"
   ],
   "outputs": []
  },
  {
   "cell_type": "code",
   "execution_count": 15,
   "id": "a87be30c-3f7c-4bd8-8355-fb564090e2ed",
   "metadata": {},
   "source": [
    "MAX_FEATURES = 200000 #number of words in the vocab"
   ],
   "outputs": []
  },
  {
   "cell_type": "code",
   "execution_count": 16,
   "id": "19a4be54-99a8-4c89-88be-83516435a034",
   "metadata": {},
   "source": [
    "vectorizer = TextVectorization(max_tokens=MAX_FEATURES,\n",
    "                              output_sequence_length=1800,\n",
    "                              output_mode='int')"
   ],
   "outputs": []
  },
  {
   "cell_type": "code",
   "execution_count": 17,
   "id": "ff5db367-a9ab-44a7-b029-0a9cc08f5810",
   "metadata": {},
   "source": [
    "X"
   ],
   "outputs": []
  },
  {
   "cell_type": "code",
   "execution_count": 18,
   "id": "97bd949b-bbca-4b7c-a59a-ee0c3c55ca1e",
   "metadata": {},
   "source": [
    "type(X)"
   ],
   "outputs": []
  },
  {
   "cell_type": "code",
   "execution_count": 19,
   "id": "39b05787-2deb-4a83-9471-e8cecdd7b9fb",
   "metadata": {},
   "source": [
    "X.values #mengubah X pandas series ke numpy"
   ],
   "outputs": []
  },
  {
   "cell_type": "code",
   "execution_count": 20,
   "id": "de24527a-e0db-4132-9bf2-c669e7911ee1",
   "metadata": {},
   "source": [
    "vectorizer.adapt(X.values)"
   ],
   "outputs": []
  },
  {
   "cell_type": "code",
   "execution_count": 21,
   "id": "65a98b55-4320-4906-b59d-83acc1b06bdd",
   "metadata": {},
   "source": [
    "vectorizer('Hello Bang')"
   ],
   "outputs": []
  },
  {
   "cell_type": "code",
   "execution_count": 63,
   "id": "67734dcf-3bea-422a-a39c-6c6eb656d7b7",
   "metadata": {
    "scrolled": true
   },
   "source": [
    "vectorizer.get_vocabulary()"
   ],
   "outputs": []
  },
  {
   "cell_type": "code",
   "execution_count": 62,
   "id": "784ac6f2-90ed-4b48-be7c-4e4a1fe718c2",
   "metadata": {},
   "source": [
    "vectorizer.get_config()"
   ],
   "outputs": []
  },
  {
   "cell_type": "code",
   "execution_count": 64,
   "id": "9e77b3c2-9512-4f9e-8704-5a890b540e05",
   "metadata": {},
   "source": [
    "vectorizer_config = vectorizer.get_config()\n",
    "vectorizer_vocab = vectorizer.get_vocabulary()"
   ],
   "outputs": []
  },
  {
   "cell_type": "code",
   "execution_count": 65,
   "id": "1869d9d3-907a-46b9-be40-896ad7d46d15",
   "metadata": {},
   "source": [
    "import pickle\n",
    "with open('vectorizer_config.pkl', 'wb') as f:\n",
    "    pickle.dump(vectorizer_config, f)\n",
    "with open('vectorizer_vocab.pkl', 'wb') as f:\n",
    "    pickle.dump(vectorizer_vocab, f)"
   ],
   "outputs": []
  },
  {
   "cell_type": "code",
   "execution_count": 23,
   "id": "ad75936b-3ab1-407c-9a65-250bf0cc06e6",
   "metadata": {},
   "source": [
    "# np.save('vocabulary.npy', vocab)"
   ],
   "outputs": []
  },
  {
   "cell_type": "code",
   "execution_count": 24,
   "id": "f468ecd3-6362-49e7-b6fe-4de4298e2fa5",
   "metadata": {
    "scrolled": true
   },
   "source": [
    "vectorized_text = vectorizer(X.values)\n",
    "vectorized_text"
   ],
   "outputs": []
  },
  {
   "cell_type": "code",
   "execution_count": 25,
   "id": "b2c23991-86b6-4d8b-b5c5-7952237f26a3",
   "metadata": {},
   "source": [
    "# MCSHBAP -- map, cache, shuffle, batch, prefetch from_tensor_slices, list_file\n",
    "dataset = tf.data.Dataset.from_tensor_slices((vectorized_text, y))\n",
    "dataset = dataset.cache()\n",
    "dataset = dataset.shuffle(160000)\n",
    "dataset = dataset.batch(16)\n",
    "dataset = dataset.prefetch(8) # helps bottlenecks"
   ],
   "outputs": []
  },
  {
   "cell_type": "code",
   "execution_count": 26,
   "id": "906ebec3-02fb-4c7e-a38a-7186e3d21804",
   "metadata": {},
   "source": [
    "dataset.as_numpy_iterator().next()"
   ],
   "outputs": []
  },
  {
   "cell_type": "code",
   "execution_count": 27,
   "id": "ed9b6a10-2407-40bd-8cbb-63ad69b8be2f",
   "metadata": {},
   "source": [
    "batch_X, batch_y = dataset.as_numpy_iterator().next()"
   ],
   "outputs": []
  },
  {
   "cell_type": "code",
   "execution_count": 28,
   "id": "5af4cd15-b9f1-4847-b31f-584f552b625f",
   "metadata": {},
   "source": [
    "print('Ukuran Batch X', batch_X.shape)\n",
    "print('Ukuran Batch y', batch_y.shape)"
   ],
   "outputs": []
  },
  {
   "cell_type": "code",
   "execution_count": 29,
   "id": "e64b8d88-e9af-44e4-8af1-8b43d6ac1b18",
   "metadata": {},
   "source": [
    "# len(dataset)*16 jml total_data"
   ],
   "outputs": []
  },
  {
   "cell_type": "code",
   "execution_count": 30,
   "id": "68d346b8-f37c-4b27-bf1d-29ce8e47bbd4",
   "metadata": {},
   "source": [
    "train = dataset.take(int(len(dataset)*.7)) # 70% dari len dataset\n",
    "val = dataset.skip(int(len(dataset)*.7)).take(int(len(dataset)*.2))\n",
    "test = dataset.skip(int(len(dataset)*.9)).take(int(len(dataset)*.1))"
   ],
   "outputs": []
  },
  {
   "cell_type": "code",
   "execution_count": 31,
   "id": "dc9a7bc8-f530-455f-b6e5-0664a5437ebc",
   "metadata": {
    "scrolled": true
   },
   "source": [
    "print('Jumal data train', len(train))\n",
    "print('Jumal data val', len(val))\n",
    "print('Jumal data test', len(test))"
   ],
   "outputs": []
  },
  {
   "cell_type": "code",
   "execution_count": 32,
   "id": "f9ad1e46-2355-48aa-bf5e-d37a80a6bbbc",
   "metadata": {},
   "source": [
    "train_generator = train.as_numpy_iterator()"
   ],
   "outputs": []
  },
  {
   "cell_type": "code",
   "execution_count": 33,
   "id": "8c70fda6-5730-4a5d-8005-d35fe1900027",
   "metadata": {},
   "source": [
    "train_generator.next()"
   ],
   "outputs": []
  },
  {
   "cell_type": "markdown",
   "id": "3d293ba7-bbea-478a-ba37-d464cdf15be2",
   "metadata": {},
   "source": [
    "# 2. Create Sequential Model"
   ]
  },
  {
   "cell_type": "code",
   "execution_count": 34,
   "id": "34632f6a-c039-4a0d-9a74-dda53c3c18f3",
   "metadata": {},
   "source": [
    "from tensorflow.keras.models import Sequential\n",
    "from tensorflow.keras.layers import LSTM, Dropout, Bidirectional, Dense, Embedding"
   ],
   "outputs": []
  },
  {
   "cell_type": "code",
   "execution_count": 35,
   "id": "3132733c-2216-4741-91a7-7897c0300c75",
   "metadata": {},
   "source": [
    "model = Sequential()\n",
    "\n",
    "#create embedding layers\n",
    "model.add(Embedding(MAX_FEATURES +1, 32))\n",
    "\n",
    "# #Bidirectional LSTM Layer\n",
    "model.add(Bidirectional(LSTM(32, activation='tanh')))\n",
    "# model.add(LSTM(32, activation='tanh'))\n",
    "\n",
    "#Feature extractor fully\n",
    "model.add(Dense(128, activation='relu'))\n",
    "model.add(Dense(256, activation='relu'))\n",
    "model.add(Dense(128, activation='relu'))\n",
    "\n",
    "#final layer\n",
    "model.add(Dense(6, activation='sigmoid'))"
   ],
   "outputs": []
  },
  {
   "cell_type": "code",
   "execution_count": 36,
   "id": "20e110c7-4604-486e-81e1-b67be372916c",
   "metadata": {},
   "source": [
    "model.compile(loss='BinaryCrossentropy', optimizer='Adam')"
   ],
   "outputs": []
  },
  {
   "cell_type": "code",
   "execution_count": 37,
   "id": "59b66973-478a-4e6b-9b5d-66b26484688a",
   "metadata": {},
   "source": [
    "model.summary()"
   ],
   "outputs": []
  },
  {
   "cell_type": "markdown",
   "id": "03fb6678-0191-4723-ab7e-a3fc29205b33",
   "metadata": {},
   "source": [
    "disaranin epochs 10"
   ]
  },
  {
   "cell_type": "code",
   "execution_count": 38,
   "id": "fcf36b93-d18e-4e11-9084-393a62c7e4aa",
   "metadata": {},
   "source": [
    "history = model.fit(train, epochs=10, validation_data=val)"
   ],
   "outputs": []
  },
  {
   "cell_type": "code",
   "execution_count": 39,
   "id": "810500f9-006b-478e-a44d-e02fa28b4884",
   "metadata": {},
   "source": [
    "history.history"
   ],
   "outputs": []
  },
  {
   "cell_type": "code",
   "execution_count": 40,
   "id": "545d64bd-87ff-4bb0-8e98-06c9ecdfd3ce",
   "metadata": {},
   "source": [
    "from matplotlib import pyplot as plt"
   ],
   "outputs": []
  },
  {
   "cell_type": "code",
   "execution_count": 41,
   "id": "18aa5549-4c31-4e7f-bde1-87d0ea91955b",
   "metadata": {},
   "source": [
    "plt.figure(figsize=(8,5))\n",
    "pd.DataFrame(history.history).plot()\n",
    "plt.show()"
   ],
   "outputs": []
  },
  {
   "cell_type": "markdown",
   "id": "c22bc656-4837-4bf3-9e4c-efadcb860c0a",
   "metadata": {},
   "source": [
    "# 3. Make Predictions"
   ]
  },
  {
   "cell_type": "code",
   "execution_count": 42,
   "id": "b816e86c-5d34-4ffd-9440-84ef0b1ad215",
   "metadata": {},
   "source": [
    "input_text = vectorizer('You freaking suck! i will to kill you')"
   ],
   "outputs": []
  },
  {
   "cell_type": "code",
   "execution_count": 43,
   "id": "35fabfdd-a0a2-4d42-90b6-de6750b7d968",
   "metadata": {},
   "source": [
    "df.columns[2:]"
   ],
   "outputs": []
  },
  {
   "cell_type": "code",
   "execution_count": 44,
   "id": "91fdd8fc-f8c1-4ce9-acff-11a14e87979d",
   "metadata": {},
   "source": [
    "# model.predict(np.array([input_text]))\n",
    "model.predict(np.expand_dims(input_text,0))"
   ],
   "outputs": []
  },
  {
   "cell_type": "code",
   "execution_count": 45,
   "id": "35a07d6b-40f4-4da2-8d18-f7f90054718a",
   "metadata": {},
   "source": [
    "batch = test.as_numpy_iterator().next()"
   ],
   "outputs": []
  },
  {
   "cell_type": "code",
   "execution_count": 46,
   "id": "057c2183-914f-4a78-a895-d98bacf9d675",
   "metadata": {},
   "source": [
    "batch_X, batch_y = test.as_numpy_iterator().next()"
   ],
   "outputs": []
  },
  {
   "cell_type": "code",
   "execution_count": 47,
   "id": "924e623d-fbb1-4ffb-ba41-360ae37d805e",
   "metadata": {},
   "source": [
    "(model.predict(batch_X) > 0.5).astype(int)"
   ],
   "outputs": []
  },
  {
   "cell_type": "code",
   "execution_count": 48,
   "id": "c7315bd5-b671-4b2c-9eca-d79e7c00b62c",
   "metadata": {},
   "source": [
    "res = model.predict(np.expand_dims(input_text, 0))"
   ],
   "outputs": []
  },
  {
   "cell_type": "markdown",
   "id": "2729f8db-453f-44f4-b6b9-fccc93d9021c",
   "metadata": {},
   "source": [
    "# 4. Evaluate Model"
   ]
  },
  {
   "cell_type": "code",
   "execution_count": 49,
   "id": "20d105f1-cd16-4bcc-8500-8ae37db6490d",
   "metadata": {},
   "source": [
    "from tensorflow.keras.metrics import Precision, Recall, CategoricalAccuracy"
   ],
   "outputs": []
  },
  {
   "cell_type": "code",
   "execution_count": 50,
   "id": "f9431982-0b91-4734-bc72-c4ef4e8685ef",
   "metadata": {},
   "source": [
    "pre = Precision()\n",
    "re = Recall()\n",
    "acc = CategoricalAccuracy()"
   ],
   "outputs": []
  },
  {
   "cell_type": "code",
   "execution_count": 51,
   "id": "f159b14c-9ac3-4828-bbde-8bc96921f332",
   "metadata": {
    "scrolled": true
   },
   "source": [
    "for batch in test.as_numpy_iterator():\n",
    "    #unpack batch\n",
    "    X_true, y_true = batch\n",
    "\n",
    "    #make prediction\n",
    "    yhat = model.predict(X_true)\n",
    "\n",
    "    #flatten the prediction\n",
    "    y_true = y_true.flatten()\n",
    "    yhat = yhat.flatten()\n",
    "\n",
    "    pre.update_state(y_true, yhat)\n",
    "    re.update_state(y_true, yhat)\n",
    "    acc.update_state(y_true, yhat)"
   ],
   "outputs": []
  },
  {
   "cell_type": "code",
   "execution_count": 52,
   "id": "3fd997af-615a-4fa8-961b-66e41eee8714",
   "metadata": {},
   "source": [
    "print(f'Precision: {pre.result().numpy()}, Recall:{re.result().numpy()}, Accuracy:{acc.result().numpy()}')"
   ],
   "outputs": []
  },
  {
   "cell_type": "markdown",
   "id": "1c5767d6-5f0c-49e4-9662-29449835793b",
   "metadata": {},
   "source": [
    "# 5. Test and Gradio"
   ]
  },
  {
   "cell_type": "code",
   "execution_count": 53,
   "id": "57fae7b4-6fbd-4dd4-b3d3-facad5e074e2",
   "metadata": {},
   "source": [
    "import tensorflow as tf"
   ],
   "outputs": []
  },
  {
   "cell_type": "code",
   "execution_count": 54,
   "id": "94023952-9110-47e0-a6cd-13fd82889a09",
   "metadata": {
    "scrolled": true
   },
   "source": [
    "!pip install gradio jinja2"
   ],
   "outputs": []
  },
  {
   "cell_type": "code",
   "execution_count": 55,
   "id": "649edd2d-755f-48da-8e50-774ddc1701fe",
   "metadata": {},
   "source": [
    "import gradio as gr"
   ],
   "outputs": []
  },
  {
   "cell_type": "code",
   "execution_count": 56,
   "id": "4cc08314-b7a3-41c9-8eeb-ffedd60d76e7",
   "metadata": {},
   "source": [
    "model.save('toxic-v1.h5')"
   ],
   "outputs": []
  },
  {
   "cell_type": "code",
   "execution_count": 58,
   "id": "1299682f-cd4d-4edc-b421-b0fb1d1013bf",
   "metadata": {},
   "source": [
    "model = tf.keras.models.load_model('toxic-v1.h5')"
   ],
   "outputs": []
  },
  {
   "cell_type": "code",
   "execution_count": 59,
   "id": "82a3b714-7ebd-4c09-9390-90f27be4c263",
   "metadata": {},
   "source": [
    "input_str = vectorizer('i hate you')"
   ],
   "outputs": []
  },
  {
   "cell_type": "code",
   "execution_count": 60,
   "id": "3041032d-57e8-4994-9874-ef2c3139f23d",
   "metadata": {},
   "source": [
    "res = model.predict(np.expand_dims(input_str,0))"
   ],
   "outputs": []
  },
  {
   "cell_type": "code",
   "execution_count": 61,
   "id": "baf6d462-8176-4c48-885a-48f4e4d1aa79",
   "metadata": {},
   "source": [
    "res"
   ],
   "outputs": []
  },
  {
   "cell_type": "code",
   "execution_count": null,
   "id": "2e20a4ce-df3a-48fe-9dda-f6f04b253255",
   "metadata": {},
   "source": [
    "def score_comment(comment):\n",
    "    vectorized_comment = vectorizer([comment])\n",
    "    result = model.predict(vectorized_comment)\n",
    "\n",
    "    # print kelas klasifikasinya\n",
    "    text = ''\n",
    "    for idx, col in enumerate(df.columns[2:]):\n",
    "        text += '{}: {}\\n'.format(col, result[0][idx]>0.5)  # Changed results to result\n",
    "\n",
    "    return text"
   ],
   "outputs": []
  },
  {
   "cell_type": "code",
   "execution_count": null,
   "id": "753e235c-1d19-45e4-bb41-8f1deb823d9a",
   "metadata": {},
   "source": [
    "interface = gr.Interface(fn=score_comment,\n",
    "                         inputs=gr.Textbox(lines=2, placeholder='Comment to score'),\n",
    "                         outputs='text')"
   ],
   "outputs": []
  },
  {
   "cell_type": "markdown",
   "id": "285d988f-ee6a-4f2f-b524-45fa07f8897a",
   "metadata": {},
   "source": [
    "harus matiin antivirus"
   ]
  },
  {
   "cell_type": "code",
   "execution_count": null,
   "id": "77585899-e715-477c-b165-cde3eea4e71d",
   "metadata": {
    "scrolled": true
   },
   "source": [
    "interface.launch(share=True)"
   ],
   "outputs": []
  },
  {
   "cell_type": "code",
   "execution_count": null,
   "id": "6b1e28f0-3402-42fe-a322-96ae9776228a",
   "metadata": {},
   "source": [],
   "outputs": []
  }
 ],
 "metadata": {
  "kernelspec": {
   "display_name": "Python 3 (ipykernel)",
   "language": "python",
   "name": "python3"
  },
  "language_info": {
   "codemirror_mode": {
    "name": "ipython",
    "version": 3
   },
   "file_extension": ".py",
   "mimetype": "text/x-python",
   "name": "python",
   "nbconvert_exporter": "python",
   "pygments_lexer": "ipython3",
   "version": "3.11.9"
  }
 },
 "nbformat": 4,
 "nbformat_minor": 5
}
