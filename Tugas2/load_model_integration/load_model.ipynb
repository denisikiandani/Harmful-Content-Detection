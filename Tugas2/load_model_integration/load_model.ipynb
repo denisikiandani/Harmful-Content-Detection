{
 "cells": [
  {
   "cell_type": "code",
   "execution_count": 1,
   "id": "fcad2990-9cd0-4604-bec2-5319872b4273",
   "metadata": {},
   "outputs": [],
   "source": [
    "# Limitasi Synchronous:\n",
    "# ---------------------------------\n",
    "# Audio Maximum 1 Menit\n",
    "# Audio Maximum 10 MB\n",
    "# ---------------------------------\n",
    "\n",
    "# Import Library\n",
    "from google.cloud.speech_v2 import SpeechClient\n",
    "from google.cloud.speech_v2.types import cloud_speech\n",
    "from google.oauth2 import service_account\n",
    "\n",
    "\n",
    "# Function transkrip audio Synchronous\n",
    "def transcribe_file_v2(project_id: str, audio_file: str) -> cloud_speech.RecognizeResponse:\n",
    "    # Instantiates client\n",
    "    credentials = service_account.Credentials.from_service_account_file('gcloud_apikey.json')\n",
    "    client = SpeechClient(credentials=credentials)\n",
    "\n",
    "    # Baca file dalam bytes\n",
    "    with open(audio_file, \"rb\") as f:\n",
    "        content = f.read()\n",
    "\n",
    "    # Config untuk speech recognition\n",
    "    config = cloud_speech.RecognitionConfig(\n",
    "        auto_decoding_config=cloud_speech.AutoDetectDecodingConfig(),\n",
    "        language_codes=[\"en-US\"],\n",
    "        model=\"long\",\n",
    "    )\n",
    "\n",
    "    # Membentuk objek request\n",
    "    request = cloud_speech.RecognizeRequest(\n",
    "        recognizer=f\"projects/{project_id}/locations/global/recognizers/_\",\n",
    "        config=config,\n",
    "        content=content,\n",
    "    )\n",
    "\n",
    "    # Transkrip audio menjadi teks\n",
    "    response = client.recognize(request=request)\n",
    "\n",
    "    # Print respon transkrip\n",
    "    for result in response.results:\n",
    "        print(f\"Transcript: {result.alternatives[0].transcript}\")\n",
    "\n",
    "    # Return respon transkrip\n",
    "    return response"
   ]
  },
  {
   "cell_type": "code",
   "execution_count": 2,
   "id": "84a46d1a-45ab-4a4e-8106-c8951307feb6",
   "metadata": {},
   "outputs": [
    {
     "data": {
      "text/html": [
       "<video width=\"500\" controls>\n",
       "    <source src=\"speech_data/Donald Trump.mp4\" type=\"video/mp4\">\n",
       "    <track src=\"Anime.srt\" kind=\"subtitles\">\n",
       "</video>\n"
      ],
      "text/plain": [
       "<IPython.core.display.HTML object>"
      ]
     },
     "metadata": {},
     "output_type": "display_data"
    }
   ],
   "source": [
    "%%HTML\n",
    "<video width=\"500\" controls>\n",
    "    <source src=\"speech_data/Donald Trump.mp4\" type=\"video/mp4\">\n",
    "    <track src=\"Anime.srt\" kind=\"subtitles\">\n",
    "</video>"
   ]
  },
  {
   "cell_type": "code",
   "execution_count": 3,
   "id": "7e3f8b85-c915-4e99-bb76-576f06e98cb6",
   "metadata": {},
   "outputs": [
    {
     "name": "stdout",
     "output_type": "stream",
     "text": [
      "MoviePy - Writing audio in speech_data/Donald Trump.mp3\n"
     ]
    },
    {
     "name": "stderr",
     "output_type": "stream",
     "text": [
      "                                                                                                                       "
     ]
    },
    {
     "name": "stdout",
     "output_type": "stream",
     "text": [
      "MoviePy - Done.\n"
     ]
    },
    {
     "name": "stderr",
     "output_type": "stream",
     "text": [
      "\r"
     ]
    }
   ],
   "source": [
    "# Import Library\n",
    "from moviepy.editor import VideoFileClip\n",
    "\n",
    "# Deklarasi input dan output\n",
    "mp4_file = \"speech_data/Donald Trump.mp4\"\n",
    "mp3_file = \"speech_data/Donald Trump.mp3\"\n",
    "\n",
    "# Load video\n",
    "video_clip = VideoFileClip(mp4_file)\n",
    "\n",
    "# Ekstrak audio dari video\n",
    "audio_clip = video_clip.audio\n",
    "\n",
    "# Simpan audio ke file\n",
    "audio_clip.write_audiofile(mp3_file)\n",
    "\n",
    "# Menutup file audio dan video\n",
    "audio_clip.close()\n",
    "video_clip.close()"
   ]
  },
  {
   "cell_type": "code",
   "execution_count": 4,
   "id": "4fe418f9-74ca-4ce1-b9e0-96fe8d034a46",
   "metadata": {},
   "outputs": [
    {
     "name": "stdout",
     "output_type": "stream",
     "text": [
      "Transcript: when I'm back in the White House America's enemies will now once again\n",
      "Transcript:  and they're going to know it\n",
      "Transcript:  that if you try to\n",
      "Transcript:  kill our citizens we will kill you we will kill you\n",
      "Transcript:  I told them all that we had no problem\n",
      "Transcript:  you know we had no problem three years ago we had no problem for four years nobody even this is Unthinkable I mean I just watch and see what's happening it's Unthinkable this couldn't have happened\n"
     ]
    }
   ],
   "source": [
    "## Menyimpan Hasil Transkrip\n",
    "hasil_transkrip = transcribe_file_v2(\n",
    "    project_id='data-science-programming-ti24',\n",
    "    audio_file=mp3_file)"
   ]
  },
  {
   "cell_type": "code",
   "execution_count": 5,
   "id": "bebce569-2b48-468b-bc3a-c1c24c747dad",
   "metadata": {},
   "outputs": [
    {
     "name": "stdout",
     "output_type": "stream",
     "text": [
      "results {\n",
      "  alternatives {\n",
      "    transcript: \"when I\\'m back in the White House America\\'s enemies will now once again\"\n",
      "    confidence: 0.975373626\n",
      "  }\n",
      "  result_end_offset {\n",
      "    seconds: 4\n",
      "    nanos: 600000000\n",
      "  }\n",
      "  language_code: \"en-US\"\n",
      "}\n",
      "results {\n",
      "  alternatives {\n",
      "    transcript: \" and they\\'re going to know it\"\n",
      "    confidence: 0.851483166\n",
      "  }\n",
      "  result_end_offset {\n",
      "    seconds: 6\n",
      "    nanos: 250000000\n",
      "  }\n",
      "  language_code: \"en-US\"\n",
      "}\n",
      "results {\n",
      "  alternatives {\n",
      "    transcript: \" that if you try to\"\n",
      "    confidence: 0.977684855\n",
      "  }\n",
      "  result_end_offset {\n",
      "    seconds: 9\n",
      "    nanos: 280000000\n",
      "  }\n",
      "  language_code: \"en-US\"\n",
      "}\n",
      "results {\n",
      "  alternatives {\n",
      "    transcript: \" kill our citizens we will kill you we will kill you\"\n",
      "    confidence: 0.991121471\n",
      "  }\n",
      "  result_end_offset {\n",
      "    seconds: 13\n",
      "    nanos: 850000000\n",
      "  }\n",
      "  language_code: \"en-US\"\n",
      "}\n",
      "results {\n",
      "  alternatives {\n",
      "    transcript: \" I told them all that we had no problem\"\n",
      "    confidence: 0.977864921\n",
      "  }\n",
      "  result_end_offset {\n",
      "    seconds: 17\n",
      "    nanos: 670000000\n",
      "  }\n",
      "  language_code: \"en-US\"\n",
      "}\n",
      "results {\n",
      "  alternatives {\n",
      "    transcript: \" you know we had no problem three years ago we had no problem for four years nobody even this is Unthinkable I mean I just watch and see what\\'s happening it\\'s Unthinkable this couldn\\'t have happened\"\n",
      "    confidence: 0.98355335\n",
      "  }\n",
      "  result_end_offset {\n",
      "    seconds: 28\n",
      "    nanos: 960000000\n",
      "  }\n",
      "  language_code: \"en-US\"\n",
      "}\n",
      "metadata {\n",
      "  total_billed_duration {\n",
      "    seconds: 29\n",
      "  }\n",
      "}\n",
      "\n"
     ]
    }
   ],
   "source": [
    "print(hasil_transkrip)"
   ]
  },
  {
   "cell_type": "code",
   "execution_count": 6,
   "id": "857cf45b-cd61-4f0b-bb80-d6bfeb0c1dde",
   "metadata": {},
   "outputs": [
    {
     "data": {
      "text/plain": [
       "[\"when I'm back in the White House America's enemies will now once again\",\n",
       " \" and they're going to know it\",\n",
       " ' that if you try to',\n",
       " ' kill our citizens we will kill you we will kill you',\n",
       " ' I told them all that we had no problem',\n",
       " \" you know we had no problem three years ago we had no problem for four years nobody even this is Unthinkable I mean I just watch and see what's happening it's Unthinkable this couldn't have happened\"]"
      ]
     },
     "execution_count": 6,
     "metadata": {},
     "output_type": "execute_result"
    }
   ],
   "source": [
    "list_hasil_transkrip = list()\n",
    "\n",
    "for hasil in hasil_transkrip.results:\n",
    "    teks = f'{hasil.alternatives[0].transcript}'\n",
    "    list_hasil_transkrip.append(teks)\n",
    "\n",
    "list_hasil_transkrip"
   ]
  },
  {
   "cell_type": "markdown",
   "id": "05fa7301-ad9f-474d-b616-0534c6b9f782",
   "metadata": {},
   "source": [
    "# PREDICT"
   ]
  },
  {
   "cell_type": "code",
   "execution_count": 7,
   "id": "fc60f715-0b94-439e-a891-b88b1a0176d2",
   "metadata": {},
   "outputs": [],
   "source": [
    "import os\n",
    "import pickle\n",
    "import numpy as np\n",
    "import pandas as pd\n",
    "\n",
    "import re\n",
    "import nltk\n",
    "from nltk.corpus import stopwords\n",
    "from nltk.stem import WordNetLemmatizer\n",
    "\n",
    "from wordcloud import WordCloud\n",
    "import matplotlib.pyplot as plt\n",
    "\n",
    "import tensorflow as tf\n",
    "from tensorflow.keras.layers import TextVectorization #tokenization|"
   ]
  },
  {
   "cell_type": "code",
   "execution_count": 8,
   "id": "11e3bc80-c854-45a9-918f-7974188cfa0f",
   "metadata": {
    "scrolled": true
   },
   "outputs": [
    {
     "name": "stderr",
     "output_type": "stream",
     "text": [
      "WARNING:absl:Compiled the loaded model, but the compiled metrics have yet to be built. `model.compile_metrics` will be empty until you train or evaluate the model.\n"
     ]
    }
   ],
   "source": [
    "model = tf.keras.models.load_model('../model_data/toxic-v2.h5')"
   ]
  },
  {
   "cell_type": "code",
   "execution_count": 126,
   "id": "1e7357a8-0eed-40c4-be3c-dfebaca4be9e",
   "metadata": {},
   "outputs": [
    {
     "data": {
      "text/html": [
       "<pre style=\"white-space:pre;overflow-x:auto;line-height:normal;font-family:Menlo,'DejaVu Sans Mono',consolas,'Courier New',monospace\"><span style=\"font-weight: bold\">Model: \"sequential\"</span>\n",
       "</pre>\n"
      ],
      "text/plain": [
       "\u001b[1mModel: \"sequential\"\u001b[0m\n"
      ]
     },
     "metadata": {},
     "output_type": "display_data"
    },
    {
     "data": {
      "text/html": [
       "<pre style=\"white-space:pre;overflow-x:auto;line-height:normal;font-family:Menlo,'DejaVu Sans Mono',consolas,'Courier New',monospace\">┏━━━━━━━━━━━━━━━━━━━━━━━━━━━━━━━━━━━━━━┳━━━━━━━━━━━━━━━━━━━━━━━━━━━━━┳━━━━━━━━━━━━━━━━━┓\n",
       "┃<span style=\"font-weight: bold\"> Layer (type)                         </span>┃<span style=\"font-weight: bold\"> Output Shape                </span>┃<span style=\"font-weight: bold\">         Param # </span>┃\n",
       "┡━━━━━━━━━━━━━━━━━━━━━━━━━━━━━━━━━━━━━━╇━━━━━━━━━━━━━━━━━━━━━━━━━━━━━╇━━━━━━━━━━━━━━━━━┩\n",
       "│ embedding (<span style=\"color: #0087ff; text-decoration-color: #0087ff\">Embedding</span>)                │ (<span style=\"color: #00d7ff; text-decoration-color: #00d7ff\">None</span>, <span style=\"color: #00af00; text-decoration-color: #00af00\">1800</span>, <span style=\"color: #00af00; text-decoration-color: #00af00\">32</span>)            │       <span style=\"color: #00af00; text-decoration-color: #00af00\">6,400,032</span> │\n",
       "├──────────────────────────────────────┼─────────────────────────────┼─────────────────┤\n",
       "│ bidirectional (<span style=\"color: #0087ff; text-decoration-color: #0087ff\">Bidirectional</span>)        │ (<span style=\"color: #00d7ff; text-decoration-color: #00d7ff\">None</span>, <span style=\"color: #00af00; text-decoration-color: #00af00\">64</span>)                  │          <span style=\"color: #00af00; text-decoration-color: #00af00\">16,640</span> │\n",
       "├──────────────────────────────────────┼─────────────────────────────┼─────────────────┤\n",
       "│ dense (<span style=\"color: #0087ff; text-decoration-color: #0087ff\">Dense</span>)                        │ (<span style=\"color: #00d7ff; text-decoration-color: #00d7ff\">None</span>, <span style=\"color: #00af00; text-decoration-color: #00af00\">128</span>)                 │           <span style=\"color: #00af00; text-decoration-color: #00af00\">8,320</span> │\n",
       "├──────────────────────────────────────┼─────────────────────────────┼─────────────────┤\n",
       "│ dense_1 (<span style=\"color: #0087ff; text-decoration-color: #0087ff\">Dense</span>)                      │ (<span style=\"color: #00d7ff; text-decoration-color: #00d7ff\">None</span>, <span style=\"color: #00af00; text-decoration-color: #00af00\">256</span>)                 │          <span style=\"color: #00af00; text-decoration-color: #00af00\">33,024</span> │\n",
       "├──────────────────────────────────────┼─────────────────────────────┼─────────────────┤\n",
       "│ dense_2 (<span style=\"color: #0087ff; text-decoration-color: #0087ff\">Dense</span>)                      │ (<span style=\"color: #00d7ff; text-decoration-color: #00d7ff\">None</span>, <span style=\"color: #00af00; text-decoration-color: #00af00\">128</span>)                 │          <span style=\"color: #00af00; text-decoration-color: #00af00\">32,896</span> │\n",
       "├──────────────────────────────────────┼─────────────────────────────┼─────────────────┤\n",
       "│ dense_3 (<span style=\"color: #0087ff; text-decoration-color: #0087ff\">Dense</span>)                      │ (<span style=\"color: #00d7ff; text-decoration-color: #00d7ff\">None</span>, <span style=\"color: #00af00; text-decoration-color: #00af00\">6</span>)                   │             <span style=\"color: #00af00; text-decoration-color: #00af00\">774</span> │\n",
       "└──────────────────────────────────────┴─────────────────────────────┴─────────────────┘\n",
       "</pre>\n"
      ],
      "text/plain": [
       "┏━━━━━━━━━━━━━━━━━━━━━━━━━━━━━━━━━━━━━━┳━━━━━━━━━━━━━━━━━━━━━━━━━━━━━┳━━━━━━━━━━━━━━━━━┓\n",
       "┃\u001b[1m \u001b[0m\u001b[1mLayer (type)                        \u001b[0m\u001b[1m \u001b[0m┃\u001b[1m \u001b[0m\u001b[1mOutput Shape               \u001b[0m\u001b[1m \u001b[0m┃\u001b[1m \u001b[0m\u001b[1m        Param #\u001b[0m\u001b[1m \u001b[0m┃\n",
       "┡━━━━━━━━━━━━━━━━━━━━━━━━━━━━━━━━━━━━━━╇━━━━━━━━━━━━━━━━━━━━━━━━━━━━━╇━━━━━━━━━━━━━━━━━┩\n",
       "│ embedding (\u001b[38;5;33mEmbedding\u001b[0m)                │ (\u001b[38;5;45mNone\u001b[0m, \u001b[38;5;34m1800\u001b[0m, \u001b[38;5;34m32\u001b[0m)            │       \u001b[38;5;34m6,400,032\u001b[0m │\n",
       "├──────────────────────────────────────┼─────────────────────────────┼─────────────────┤\n",
       "│ bidirectional (\u001b[38;5;33mBidirectional\u001b[0m)        │ (\u001b[38;5;45mNone\u001b[0m, \u001b[38;5;34m64\u001b[0m)                  │          \u001b[38;5;34m16,640\u001b[0m │\n",
       "├──────────────────────────────────────┼─────────────────────────────┼─────────────────┤\n",
       "│ dense (\u001b[38;5;33mDense\u001b[0m)                        │ (\u001b[38;5;45mNone\u001b[0m, \u001b[38;5;34m128\u001b[0m)                 │           \u001b[38;5;34m8,320\u001b[0m │\n",
       "├──────────────────────────────────────┼─────────────────────────────┼─────────────────┤\n",
       "│ dense_1 (\u001b[38;5;33mDense\u001b[0m)                      │ (\u001b[38;5;45mNone\u001b[0m, \u001b[38;5;34m256\u001b[0m)                 │          \u001b[38;5;34m33,024\u001b[0m │\n",
       "├──────────────────────────────────────┼─────────────────────────────┼─────────────────┤\n",
       "│ dense_2 (\u001b[38;5;33mDense\u001b[0m)                      │ (\u001b[38;5;45mNone\u001b[0m, \u001b[38;5;34m128\u001b[0m)                 │          \u001b[38;5;34m32,896\u001b[0m │\n",
       "├──────────────────────────────────────┼─────────────────────────────┼─────────────────┤\n",
       "│ dense_3 (\u001b[38;5;33mDense\u001b[0m)                      │ (\u001b[38;5;45mNone\u001b[0m, \u001b[38;5;34m6\u001b[0m)                   │             \u001b[38;5;34m774\u001b[0m │\n",
       "└──────────────────────────────────────┴─────────────────────────────┴─────────────────┘\n"
      ]
     },
     "metadata": {},
     "output_type": "display_data"
    },
    {
     "data": {
      "text/html": [
       "<pre style=\"white-space:pre;overflow-x:auto;line-height:normal;font-family:Menlo,'DejaVu Sans Mono',consolas,'Courier New',monospace\"><span style=\"font-weight: bold\"> Total params: </span><span style=\"color: #00af00; text-decoration-color: #00af00\">6,491,688</span> (24.76 MB)\n",
       "</pre>\n"
      ],
      "text/plain": [
       "\u001b[1m Total params: \u001b[0m\u001b[38;5;34m6,491,688\u001b[0m (24.76 MB)\n"
      ]
     },
     "metadata": {},
     "output_type": "display_data"
    },
    {
     "data": {
      "text/html": [
       "<pre style=\"white-space:pre;overflow-x:auto;line-height:normal;font-family:Menlo,'DejaVu Sans Mono',consolas,'Courier New',monospace\"><span style=\"font-weight: bold\"> Trainable params: </span><span style=\"color: #00af00; text-decoration-color: #00af00\">6,491,686</span> (24.76 MB)\n",
       "</pre>\n"
      ],
      "text/plain": [
       "\u001b[1m Trainable params: \u001b[0m\u001b[38;5;34m6,491,686\u001b[0m (24.76 MB)\n"
      ]
     },
     "metadata": {},
     "output_type": "display_data"
    },
    {
     "data": {
      "text/html": [
       "<pre style=\"white-space:pre;overflow-x:auto;line-height:normal;font-family:Menlo,'DejaVu Sans Mono',consolas,'Courier New',monospace\"><span style=\"font-weight: bold\"> Non-trainable params: </span><span style=\"color: #00af00; text-decoration-color: #00af00\">0</span> (0.00 B)\n",
       "</pre>\n"
      ],
      "text/plain": [
       "\u001b[1m Non-trainable params: \u001b[0m\u001b[38;5;34m0\u001b[0m (0.00 B)\n"
      ]
     },
     "metadata": {},
     "output_type": "display_data"
    },
    {
     "data": {
      "text/html": [
       "<pre style=\"white-space:pre;overflow-x:auto;line-height:normal;font-family:Menlo,'DejaVu Sans Mono',consolas,'Courier New',monospace\"><span style=\"font-weight: bold\"> Optimizer params: </span><span style=\"color: #00af00; text-decoration-color: #00af00\">2</span> (12.00 B)\n",
       "</pre>\n"
      ],
      "text/plain": [
       "\u001b[1m Optimizer params: \u001b[0m\u001b[38;5;34m2\u001b[0m (12.00 B)\n"
      ]
     },
     "metadata": {},
     "output_type": "display_data"
    }
   ],
   "source": [
    "model.summary()"
   ]
  },
  {
   "cell_type": "code",
   "execution_count": 128,
   "id": "be7fc4d9-4acc-49e9-ae73-c4172862bc89",
   "metadata": {},
   "outputs": [],
   "source": [
    "labels = ['toxic', 'sangat_toxic', 'cabul', 'ancaman', 'penghinaan', 'rasis']\n",
    "# toxic == toxic\n",
    "# sever_toxic == sangat_toxic\n",
    "# obscene == cabul\n",
    "# threat == ancaman\n",
    "# insult == penghinaan \n",
    "# indentity_hate == rasis/benci personal(gender, ras, etnis, agama, orientasi seksual, dll)"
   ]
  },
  {
   "cell_type": "code",
   "execution_count": 10,
   "id": "0e11ac4e-2868-4c3d-8d3a-26a3f9bd9c07",
   "metadata": {},
   "outputs": [],
   "source": [
    "with open('../model_data/vectorizer_config_v2.pkl', 'rb') as f:\n",
    "    vectorizer_config = pickle.load(f)\n",
    "with open('../model_data/vectorizer_vocab_v2.pkl', 'rb') as f:\n",
    "    vectorizer_vocab = pickle.load(f)"
   ]
  },
  {
   "cell_type": "code",
   "execution_count": 11,
   "id": "d55a4118-427f-42f7-99e0-a14fd0099e3a",
   "metadata": {},
   "outputs": [],
   "source": [
    "vectorizer = TextVectorization.from_config(vectorizer_config)\n",
    "vectorizer.set_vocabulary(vectorizer_vocab)"
   ]
  },
  {
   "cell_type": "code",
   "execution_count": 12,
   "id": "1e8c3057-aeb0-4369-b654-f33f4ec34801",
   "metadata": {},
   "outputs": [
    {
     "data": {
      "image/png": "[encoded data removed]",
      "text/plain": [
       "<Figure size 1000x800 with 1 Axes>"
      ]
     },
     "metadata": {},
     "output_type": "display_data"
    }
   ],
   "source": [
    "# Function untuk menampilkan wordcloud\n",
    "def plot_cloud(wordcloud):\n",
    "    plt.figure(figsize=[10, 8])\n",
    "    plt.imshow(wordcloud, interpolation='bilinear')\n",
    "    plt.axis('off')\n",
    "    plt.show()\n",
    "\n",
    "# gabungkan semua text menjadi 1 string\n",
    "all_text = ' '.join(list_hasil_transkrip)\n",
    "\n",
    "# membuat word cloud\n",
    "wordcloud = WordCloud(\n",
    "    width = 3000,\n",
    "    height = 2000,\n",
    "    random_state = 3,\n",
    "    background_color = 'black',\n",
    "    colormap = 'Blues_r',\n",
    "    collocations = False,\n",
    ").generate(all_text)\n",
    "\n",
    "# tampilkan wordcloudnya\n",
    "plot_cloud(wordcloud)"
   ]
  },
  {
   "cell_type": "code",
   "execution_count": 116,
   "id": "6a393978-013b-449e-8eea-87b60a12370f",
   "metadata": {},
   "outputs": [],
   "source": [
    "input_data = list_hasil_transkrip"
   ]
  },
  {
   "cell_type": "code",
   "execution_count": 117,
   "id": "0d62342c-03dc-4cbe-92f8-ae658e3e9680",
   "metadata": {},
   "outputs": [],
   "source": [
    "# Vectorize setiap input text pada list\n",
    "vectorized_texts = [vectorizer(text) for text in input_data]\n",
    "\n",
    "# # Pad sequence dengan panjang yg sa,a\n",
    "padded_texts = tf.keras.preprocessing.sequence.pad_sequences(vectorized_texts, maxlen=1800)"
   ]
  },
  {
   "cell_type": "code",
   "execution_count": 118,
   "id": "d7f78b3d-6ea9-4c72-8eff-98f9733f4de9",
   "metadata": {},
   "outputs": [
    {
     "name": "stdout",
     "output_type": "stream",
     "text": [
      "\u001b[1m1/1\u001b[0m \u001b[32m━━━━━━━━━━━━━━━━━━━━\u001b[0m\u001b[37m\u001b[0m \u001b[1m0s\u001b[0m 104ms/step\n"
     ]
    }
   ],
   "source": [
    "# predictions = model.predict(vectorized_texts)\n",
    "predictions = model.predict(padded_texts)"
   ]
  },
  {
   "cell_type": "code",
   "execution_count": 119,
   "id": "d452680e-f149-47dc-9fcd-4fdda8d8f657",
   "metadata": {},
   "outputs": [
    {
     "data": {
      "text/plain": [
       "array([[2.38095030e-01, 2.14918880e-04, 1.32651525e-02, 1.78835362e-01,\n",
       "        2.11702622e-02, 4.53145895e-03],\n",
       "       [7.70449340e-02, 7.94449377e-08, 6.71954080e-03, 6.09895855e-04,\n",
       "        9.64459497e-03, 1.41859316e-04],\n",
       "       [1.79522365e-01, 2.26002453e-06, 1.59715712e-02, 1.46017456e-03,\n",
       "        3.15272920e-02, 5.23124530e-04],\n",
       "       [9.97488797e-01, 1.01877995e-01, 4.41394866e-01, 9.03899789e-01,\n",
       "        7.09758282e-01, 9.27637592e-02],\n",
       "       [3.35166484e-01, 4.56353655e-06, 1.11212954e-02, 5.82993089e-04,\n",
       "        4.60479558e-02, 4.15553193e-04],\n",
       "       [2.17092410e-02, 5.98908534e-10, 1.38425734e-03, 2.68288597e-04,\n",
       "        2.70893425e-03, 4.08326596e-05]], dtype=float32)"
      ]
     },
     "execution_count": 119,
     "metadata": {},
     "output_type": "execute_result"
    }
   ],
   "source": [
    "predictions"
   ]
  },
  {
   "cell_type": "code",
   "execution_count": 120,
   "id": "3abeef17-e35c-43f9-82c2-684ba7013bcc",
   "metadata": {},
   "outputs": [
    {
     "data": {
      "text/plain": [
       "array([[0, 0, 0, 0, 0, 0],\n",
       "       [0, 0, 0, 0, 0, 0],\n",
       "       [0, 0, 0, 0, 0, 0],\n",
       "       [1, 0, 0, 1, 1, 0],\n",
       "       [0, 0, 0, 0, 0, 0],\n",
       "       [0, 0, 0, 0, 0, 0]])"
      ]
     },
     "execution_count": 120,
     "metadata": {},
     "output_type": "execute_result"
    }
   ],
   "source": [
    "binary_predictions = (predictions > 0.5).astype(int)\n",
    "binary_predictions"
   ]
  },
  {
   "cell_type": "code",
   "execution_count": 121,
   "id": "0d0c5005-9753-41ab-b726-e02f850985ad",
   "metadata": {},
   "outputs": [
    {
     "name": "stdout",
     "output_type": "stream",
     "text": [
      "Text: when I'm back in the White House America's enemies will now once again\n",
      "toxic: 0\n",
      "sangat_toxic: 0\n",
      "cabul: 0\n",
      "ancaman: 0\n",
      "penghinaan: 0\n",
      "rasis: 0\n",
      "\n",
      "Text:  and they're going to know it\n",
      "toxic: 0\n",
      "sangat_toxic: 0\n",
      "cabul: 0\n",
      "ancaman: 0\n",
      "penghinaan: 0\n",
      "rasis: 0\n",
      "\n",
      "Text:  that if you try to\n",
      "toxic: 0\n",
      "sangat_toxic: 0\n",
      "cabul: 0\n",
      "ancaman: 0\n",
      "penghinaan: 0\n",
      "rasis: 0\n",
      "\n",
      "Text:  kill our citizens we will kill you we will kill you\n",
      "toxic: 1\n",
      "sangat_toxic: 0\n",
      "cabul: 0\n",
      "ancaman: 1\n",
      "penghinaan: 1\n",
      "rasis: 0\n",
      "\n",
      "Text:  I told them all that we had no problem\n",
      "toxic: 0\n",
      "sangat_toxic: 0\n",
      "cabul: 0\n",
      "ancaman: 0\n",
      "penghinaan: 0\n",
      "rasis: 0\n",
      "\n",
      "Text:  you know we had no problem three years ago we had no problem for four years nobody even this is Unthinkable I mean I just watch and see what's happening it's Unthinkable this couldn't have happened\n",
      "toxic: 0\n",
      "sangat_toxic: 0\n",
      "cabul: 0\n",
      "ancaman: 0\n",
      "penghinaan: 0\n",
      "rasis: 0\n",
      "\n"
     ]
    }
   ],
   "source": [
    "# Print predictions\n",
    "for i, text in enumerate(input_data):\n",
    "    print(\"Text:\", text)\n",
    "    for label, pred in zip(labels, binary_predictions[i]):\n",
    "        print(f\"{label}: {pred}\")\n",
    "    print()"
   ]
  },
  {
   "cell_type": "code",
   "execution_count": 122,
   "id": "c7d7db5c-906f-434a-9a24-09449e8cb33e",
   "metadata": {},
   "outputs": [
    {
     "data": {
      "text/plain": [
       "array([1, 0, 0, 1, 1, 0])"
      ]
     },
     "execution_count": 122,
     "metadata": {},
     "output_type": "execute_result"
    }
   ],
   "source": [
    "total_predictions = binary_predictions.sum(axis=0)\n",
    "total_predictions"
   ]
  },
  {
   "cell_type": "code",
   "execution_count": 123,
   "id": "43182172-3873-4573-af0c-caf6f8915693",
   "metadata": {},
   "outputs": [
    {
     "name": "stdout",
     "output_type": "stream",
     "text": [
      "toxic: 1\n",
      "sangat_toxic: 0\n",
      "cabul: 0\n",
      "ancaman: 1\n",
      "penghinaan: 1\n",
      "rasis: 0\n"
     ]
    }
   ],
   "source": [
    "for i, (label, total) in enumerate(zip(labels, total_predictions)):\n",
    "    print(f\"{label}: {total}\")"
   ]
  },
  {
   "cell_type": "code",
   "execution_count": 124,
   "id": "8821f752-c7cf-4d73-ad99-43239cfefaf5",
   "metadata": {},
   "outputs": [
    {
     "name": "stdout",
     "output_type": "stream",
     "text": [
      "Text:  kill our citizens we will kill you we will kill you\n",
      "Prediction: toxic \n",
      "Akurasi Prediksi: 0.997488796710968\n",
      "\n",
      "Text:  kill our citizens we will kill you we will kill you\n",
      "Prediction: ancaman \n",
      "Akurasi Prediksi: 0.9038997888565063\n",
      "\n",
      "Text:  kill our citizens we will kill you we will kill you\n",
      "Prediction: penghinaan \n",
      "Akurasi Prediksi: 0.7097582817077637\n",
      "\n",
      "\n",
      "\n",
      "Total toxic predictions: 1\n",
      "Index Kalimat yang terdeteksi toxic: [3]\n",
      "\n",
      "Total sangat_toxic predictions: 0\n",
      "Index Kalimat yang terdeteksi sangat_toxic: []\n",
      "\n",
      "Total cabul predictions: 0\n",
      "Index Kalimat yang terdeteksi cabul: []\n",
      "\n",
      "Total ancaman predictions: 1\n",
      "Index Kalimat yang terdeteksi ancaman: [3]\n",
      "\n",
      "Total penghinaan predictions: 1\n",
      "Index Kalimat yang terdeteksi penghinaan: [3]\n",
      "\n",
      "Total rasis predictions: 0\n",
      "Index Kalimat yang terdeteksi rasis: []\n",
      "\n"
     ]
    }
   ],
   "source": [
    "label_index = {label: [] for label in labels}\n",
    "\n",
    "total_predictions = binary_predictions.sum(axis=0)\n",
    "\n",
    "for i, (prediction, text) in enumerate(zip(binary_predictions, input_data)):\n",
    "    for j, (label, pred) in enumerate(zip(labels, prediction)):\n",
    "        if pred == 1:\n",
    "            print(f\"Text: {text}\")\n",
    "            print(f\"Prediction: {label} \\nAkurasi Prediksi: {predictions[i][j]}\")\n",
    "            label_index[label].append(i)  # Simpan index yang labelnya terdeteksi 1\n",
    "            print()\n",
    "\n",
    "print('\\n')\n",
    "for label, total in zip(labels, total_predictions):\n",
    "    print(f\"Total {label} predictions: {total}\")\n",
    "    print(f\"Index Kalimat yang terdeteksi {label}: {label_index[label]}\")\n",
    "    print()"
   ]
  },
  {
   "cell_type": "code",
   "execution_count": null,
   "id": "3e6e0e2f-9540-44f8-8a94-8a581728d56d",
   "metadata": {},
   "outputs": [],
   "source": []
  },
  {
   "cell_type": "code",
   "execution_count": null,
   "id": "22a6d9f8-3713-4c5f-8f25-66c44cedc5ec",
   "metadata": {},
   "outputs": [],
   "source": []
  },
  {
   "cell_type": "code",
   "execution_count": null,
   "id": "8f97a557-db2f-45c4-b65f-4280b5cf922e",
   "metadata": {},
   "outputs": [],
   "source": []
  },
  {
   "cell_type": "code",
   "execution_count": null,
   "id": "ba01dd87-5417-446e-881f-e5e0bdbbffb3",
   "metadata": {},
   "outputs": [],
   "source": []
  },
  {
   "cell_type": "code",
   "execution_count": null,
   "id": "9438192b-6519-48e1-8c46-c8a309e7d60a",
   "metadata": {},
   "outputs": [],
   "source": []
  },
  {
   "cell_type": "code",
   "execution_count": null,
   "id": "98f27c69-55bc-4f99-bbeb-30c1ddd5f300",
   "metadata": {},
   "outputs": [],
   "source": []
  },
  {
   "cell_type": "code",
   "execution_count": null,
   "id": "e175d392-b5f7-4583-895f-11408637014c",
   "metadata": {},
   "outputs": [],
   "source": []
  },
  {
   "cell_type": "markdown",
   "id": "222d195f-8665-4e92-a8c1-9fdc8737a97f",
   "metadata": {},
   "source": [
    "# Cleaning List"
   ]
  },
  {
   "cell_type": "code",
   "execution_count": 77,
   "id": "040092c3-6a4a-42f3-af57-d6f492520610",
   "metadata": {},
   "outputs": [],
   "source": [
    "input_data = list_hasil_transkrip"
   ]
  },
  {
   "cell_type": "code",
   "execution_count": 78,
   "id": "729932eb-9315-40fb-8f83-e439960e8fe5",
   "metadata": {},
   "outputs": [],
   "source": [
    "def normalize_text(text):\n",
    "    text = text.lower()  # Ubah menjadi huruf kecil\n",
    "    text = re.sub(r\"i'm\", \"i am\", text)\n",
    "    text = re.sub(r\"don't\", \"do not\", text)\n",
    "    text = re.sub(r\"can't\", \"cannot\", text)\n",
    "    text = re.sub(r\"won't\", \"will not\", text)\n",
    "    text = re.sub(r\"it's\", \"it is\", text)\n",
    "    text = re.sub(r\"that's\", \"that is\", text)\n",
    "    text = re.sub(r\"there's\", \"there is\", text)\n",
    "    text = re.sub(r\"what's\", \"what is\", text)\n",
    "    text = re.sub(r\"who's\", \"who is\", text)\n",
    "    text = re.sub(r\"isn't\", \"is not\", text)\n",
    "    text = re.sub(r\"wasn't\", \"was not\", text)\n",
    "    text = re.sub(r\"weren't\", \"were not\", text)\n",
    "    text = re.sub(r\"didn't\", \"did not\", text)\n",
    "    text = re.sub(r\"haven't\", \"have not\", text)\n",
    "    text = re.sub(r\"hasn't\", \"has not\", text)\n",
    "    text = re.sub(r\"shouldn't\", \"should not\", text)\n",
    "    text = re.sub(r\"couldn't\", \"could not\", text)\n",
    "    text = re.sub(r\"wouldn't\", \"would not\", text)\n",
    "    text = re.sub(r\"ain't\", \"are not\", text)\n",
    "    text = re.sub(r\"ive\", \"i have\", text)\n",
    "    text = re.sub(r\"ok\", \"okay\", text)\n",
    "    text = re.sub(r\"they're\", \"they are\", text)\n",
    "    return text"
   ]
  },
  {
   "cell_type": "code",
   "execution_count": 79,
   "id": "1aa1c3c9-bd81-48ad-a2f8-d43fa62829ba",
   "metadata": {},
   "outputs": [],
   "source": [
    "def clean_text(text):\n",
    "    text = re.sub(r'@[A-Za-z0-9_]+','',text) # Hapus mention\n",
    "    text = re.sub(r'#\\w+','',text) # Hapus hashtag\n",
    "    text = re.sub(r'RT[\\s]+','',text) # Hapus retweet\n",
    "    text = re.sub(r'https?://\\S+','',text) # Hapus url\n",
    "    text = re.sub(r'\\r\\n', ' ', text)  # Mengubah \\r\\n menjadi spasi\n",
    "    text = re.sub(r'\\r|\\n', ' ', text) # Hapus karakter escape seperti \\r dan \\n\n",
    "    text = re.sub(r'[^A-Za-z0-9 ]','',text) # Hapus karakter non alpha numeric\n",
    "    text = re.sub(r'\\d+', '', text) # hapus angka\n",
    "    text = re.sub(r'\\s+',' ',text).strip() # Hapus spasi berlebih\n",
    "\n",
    "    return text"
   ]
  },
  {
   "cell_type": "code",
   "execution_count": 80,
   "id": "779f290c-42ad-4876-b566-fcf2ae6ed33f",
   "metadata": {},
   "outputs": [
    {
     "name": "stderr",
     "output_type": "stream",
     "text": [
      "[nltk_data] Downloading package stopwords to\n",
      "[nltk_data]     C:\\Users\\Lenovo\\AppData\\Roaming\\nltk_data...\n",
      "[nltk_data]   Package stopwords is already up-to-date!\n",
      "[nltk_data] Downloading package wordnet to\n",
      "[nltk_data]     C:\\Users\\Lenovo\\AppData\\Roaming\\nltk_data...\n",
      "[nltk_data]   Package wordnet is already up-to-date!\n"
     ]
    },
    {
     "data": {
      "text/plain": [
       "True"
      ]
     },
     "execution_count": 80,
     "metadata": {},
     "output_type": "execute_result"
    }
   ],
   "source": [
    "nltk.download('stopwords')\n",
    "nltk.download('wordnet')"
   ]
  },
  {
   "cell_type": "code",
   "execution_count": 81,
   "id": "aaa5e6d3-4860-4358-b5bc-a91c3d661fd6",
   "metadata": {},
   "outputs": [],
   "source": [
    "# Inisialisasi stopwords dan lemmatizer\n",
    "stop_words = set(stopwords.words('english'))\n",
    "lemmatizer = WordNetLemmatizer()\n",
    "\n",
    "def preprocess_text(text):\n",
    "    text = normalize_text(text)  # Normalisasi teks\n",
    "    text = clean_text(text)  # Bersihkan teks\n",
    "    \n",
    "    # stopwords dan lemmatize\n",
    "    text = ' '.join([lemmatizer.lemmatize(word) for word in text.split() if word not in stop_words])\n",
    "    return text"
   ]
  },
  {
   "cell_type": "code",
   "execution_count": 82,
   "id": "8c51ee89-b615-44fd-97a8-0c9361f4473d",
   "metadata": {},
   "outputs": [],
   "source": [
    "clean_input = [preprocess_text(text) for text in input_data]\n",
    "# clean_input = preprocess_text(all_text)\n",
    "\n",
    "# if input_data:\n",
    "#     clean_input = [preprocess_text(text) for text in input_data]\n",
    "# elif input_data_text:\n",
    "#     clean_input = preprocess_text(input_data_text)"
   ]
  },
  {
   "cell_type": "code",
   "execution_count": 83,
   "id": "a7ada432-3538-43a8-968e-fc27c0cb22b2",
   "metadata": {},
   "outputs": [
    {
     "data": {
      "text/plain": [
       "['back white house america enemy',\n",
       " 'going know',\n",
       " 'try',\n",
       " 'kill citizen kill kill',\n",
       " 'told problem',\n",
       " 'know problem three year ago problem four year nobody even unthinkable mean watch see happening unthinkable could happened']"
      ]
     },
     "execution_count": 83,
     "metadata": {},
     "output_type": "execute_result"
    }
   ],
   "source": [
    "clean_input"
   ]
  },
  {
   "cell_type": "code",
   "execution_count": 84,
   "id": "6672aa20-95ce-404a-9f01-cc2b2a30a5b1",
   "metadata": {},
   "outputs": [],
   "source": [
    "# Vectorize setiap input text pada list\n",
    "# vectorized_texts = vectorizer([all_text])\n",
    "# vectorized_texts = vectorizer([clean_input])\n",
    "vectorized_texts = [vectorizer(text) for text in clean_input]\n",
    "# vectorized_texts = [vectorizer(text) for text in input_data]\n",
    "\n",
    "# # Pad sequence dengan panjang yg sa,a\n",
    "padded_texts = tf.keras.preprocessing.sequence.pad_sequences(vectorized_texts, maxlen=1800)"
   ]
  },
  {
   "cell_type": "code",
   "execution_count": 85,
   "id": "04dbf503-84ec-4f1a-9ed1-e0f6b2874345",
   "metadata": {},
   "outputs": [
    {
     "name": "stdout",
     "output_type": "stream",
     "text": [
      "\u001b[1m1/1\u001b[0m \u001b[32m━━━━━━━━━━━━━━━━━━━━\u001b[0m\u001b[37m\u001b[0m \u001b[1m0s\u001b[0m 107ms/step\n"
     ]
    }
   ],
   "source": [
    "# predictions = model.predict(vectorized_texts)\n",
    "predictions = model.predict(padded_texts)"
   ]
  },
  {
   "cell_type": "code",
   "execution_count": 86,
   "id": "ea043cc5-52c5-4c70-b7df-ff4a56d2230b",
   "metadata": {},
   "outputs": [
    {
     "data": {
      "text/plain": [
       "array([[0, 0, 0, 0, 0, 0],\n",
       "       [0, 0, 0, 0, 0, 0],\n",
       "       [0, 0, 0, 0, 0, 0],\n",
       "       [1, 0, 1, 1, 1, 0],\n",
       "       [0, 0, 0, 0, 0, 0],\n",
       "       [0, 0, 0, 0, 0, 0]])"
      ]
     },
     "execution_count": 86,
     "metadata": {},
     "output_type": "execute_result"
    }
   ],
   "source": [
    "binary_predictions = (predictions > 0.5).astype(int)\n",
    "binary_predictions"
   ]
  },
  {
   "cell_type": "code",
   "execution_count": 87,
   "id": "0e43fcb5-3889-446c-a91e-c7e5630792f5",
   "metadata": {},
   "outputs": [
    {
     "name": "stdout",
     "output_type": "stream",
     "text": [
      "Text: when I'm back in the White House America's enemies will now once again\n",
      "toxic: 0\n",
      "sangat_toxic: 0\n",
      "cabul: 0\n",
      "ancaman: 0\n",
      "penghinaan: 0\n",
      "rasis: 0\n",
      "\n",
      "Text:  and they're going to know it\n",
      "toxic: 0\n",
      "sangat_toxic: 0\n",
      "cabul: 0\n",
      "ancaman: 0\n",
      "penghinaan: 0\n",
      "rasis: 0\n",
      "\n",
      "Text:  that if you try to\n",
      "toxic: 0\n",
      "sangat_toxic: 0\n",
      "cabul: 0\n",
      "ancaman: 0\n",
      "penghinaan: 0\n",
      "rasis: 0\n",
      "\n",
      "Text:  kill our citizens we will kill you we will kill you\n",
      "toxic: 1\n",
      "sangat_toxic: 0\n",
      "cabul: 1\n",
      "ancaman: 1\n",
      "penghinaan: 1\n",
      "rasis: 0\n",
      "\n",
      "Text:  I told them all that we had no problem\n",
      "toxic: 0\n",
      "sangat_toxic: 0\n",
      "cabul: 0\n",
      "ancaman: 0\n",
      "penghinaan: 0\n",
      "rasis: 0\n",
      "\n",
      "Text:  you know we had no problem three years ago we had no problem for four years nobody even this is Unthinkable I mean I just watch and see what's happening it's Unthinkable this couldn't have happened\n",
      "toxic: 0\n",
      "sangat_toxic: 0\n",
      "cabul: 0\n",
      "ancaman: 0\n",
      "penghinaan: 0\n",
      "rasis: 0\n",
      "\n"
     ]
    }
   ],
   "source": [
    "# Print predictions\n",
    "for i, text in enumerate(input_data):\n",
    "    print(\"Text:\", text)\n",
    "    for label, pred in zip(labels, binary_predictions[i]):\n",
    "        print(f\"{label}: {pred}\")\n",
    "    print()"
   ]
  },
  {
   "cell_type": "code",
   "execution_count": 88,
   "id": "eda4ba8e-0023-4f45-ab8e-b61732c59852",
   "metadata": {
    "scrolled": true
   },
   "outputs": [
    {
     "data": {
      "text/plain": [
       "array([1, 0, 1, 1, 1, 0])"
      ]
     },
     "execution_count": 88,
     "metadata": {},
     "output_type": "execute_result"
    }
   ],
   "source": [
    "total_predictions = binary_predictions.sum(axis=0)\n",
    "total_predictions"
   ]
  },
  {
   "cell_type": "code",
   "execution_count": 89,
   "id": "56491213-eaef-4a7d-99ce-a9a50e7dc1c2",
   "metadata": {},
   "outputs": [
    {
     "name": "stdout",
     "output_type": "stream",
     "text": [
      "toxic: 1\n",
      "sangat_toxic: 0\n",
      "cabul: 1\n",
      "ancaman: 1\n",
      "penghinaan: 1\n",
      "rasis: 0\n"
     ]
    }
   ],
   "source": [
    "for i, (label, total) in enumerate(zip(labels, total_predictions)):\n",
    "    print(f\"{label}: {total}\")"
   ]
  },
  {
   "cell_type": "code",
   "execution_count": 90,
   "id": "2d9b8caa-8293-4d6a-9940-8faafd8c0e60",
   "metadata": {},
   "outputs": [
    {
     "name": "stdout",
     "output_type": "stream",
     "text": [
      "Text:  kill our citizens we will kill you we will kill you\n",
      "Prediction: toxic \n",
      "Akurasi Prediksi: 0.9970459342002869\n",
      "\n",
      "Text:  kill our citizens we will kill you we will kill you\n",
      "Prediction: cabul \n",
      "Akurasi Prediksi: 0.601630687713623\n",
      "\n",
      "Text:  kill our citizens we will kill you we will kill you\n",
      "Prediction: ancaman \n",
      "Akurasi Prediksi: 0.7724084854125977\n",
      "\n",
      "Text:  kill our citizens we will kill you we will kill you\n",
      "Prediction: penghinaan \n",
      "Akurasi Prediksi: 0.5338108539581299\n",
      "\n",
      "\n",
      "\n",
      "Total toxic predictions: 1\n",
      "Index Kalimat yang terdeteksi toxic: [3]\n",
      "\n",
      "Total sangat_toxic predictions: 0\n",
      "Index Kalimat yang terdeteksi sangat_toxic: []\n",
      "\n",
      "Total cabul predictions: 1\n",
      "Index Kalimat yang terdeteksi cabul: [3]\n",
      "\n",
      "Total ancaman predictions: 1\n",
      "Index Kalimat yang terdeteksi ancaman: [3]\n",
      "\n",
      "Total penghinaan predictions: 1\n",
      "Index Kalimat yang terdeteksi penghinaan: [3]\n",
      "\n",
      "Total rasis predictions: 0\n",
      "Index Kalimat yang terdeteksi rasis: []\n",
      "\n"
     ]
    }
   ],
   "source": [
    "label_index = {label: [] for label in labels}\n",
    "\n",
    "total_predictions = binary_predictions.sum(axis=0)\n",
    "\n",
    "for i, (prediction, text) in enumerate(zip(binary_predictions, input_data)):\n",
    "    for j, (label, pred) in enumerate(zip(labels, prediction)):\n",
    "        if pred == 1:\n",
    "            print(f\"Text: {text}\")\n",
    "            print(f\"Prediction: {label} \\nAkurasi Prediksi: {predictions[i][j]}\")\n",
    "            label_index[label].append(i)  # Simpan index yang labelnya terdeteksi 1\n",
    "            print()\n",
    "\n",
    "print('\\n')\n",
    "for label, total in zip(labels, total_predictions):\n",
    "    print(f\"Total {label} predictions: {total}\")\n",
    "    print(f\"Index Kalimat yang terdeteksi {label}: {label_index[label]}\")\n",
    "    print()"
   ]
  },
  {
   "cell_type": "markdown",
   "id": "706c2bc9-1c1c-4a70-868c-2088a3828e8f",
   "metadata": {},
   "source": [
    "# Cleaning String"
   ]
  },
  {
   "cell_type": "code",
   "execution_count": 91,
   "id": "97a5321e-3023-4c8f-9d6d-be223c4092ad",
   "metadata": {},
   "outputs": [],
   "source": [
    "# gabungkan semua text menjadi 1 string\n",
    "all_text = ' '.join(list_hasil_transkrip)"
   ]
  },
  {
   "cell_type": "code",
   "execution_count": 92,
   "id": "fff27317-c851-4e82-a6ba-c57b1283cc5d",
   "metadata": {},
   "outputs": [
    {
     "data": {
      "text/plain": [
       "\"when I'm back in the White House America's enemies will now once again  and they're going to know it  that if you try to  kill our citizens we will kill you we will kill you  I told them all that we had no problem  you know we had no problem three years ago we had no problem for four years nobody even this is Unthinkable I mean I just watch and see what's happening it's Unthinkable this couldn't have happened\""
      ]
     },
     "execution_count": 92,
     "metadata": {},
     "output_type": "execute_result"
    }
   ],
   "source": [
    "all_text"
   ]
  },
  {
   "cell_type": "code",
   "execution_count": 93,
   "id": "ee821e15-9b17-4cc1-8c98-d297cb283ca3",
   "metadata": {},
   "outputs": [],
   "source": [
    "clean_input = preprocess_text(all_text)"
   ]
  },
  {
   "cell_type": "code",
   "execution_count": 94,
   "id": "469c4528-2521-459d-a8bb-a30f22bc5bed",
   "metadata": {},
   "outputs": [
    {
     "data": {
      "text/plain": [
       "'back white house america enemy going know try kill citizen kill kill told problem know problem three year ago problem four year nobody even unthinkable mean watch see happening unthinkable could happened'"
      ]
     },
     "execution_count": 94,
     "metadata": {},
     "output_type": "execute_result"
    }
   ],
   "source": [
    "clean_input"
   ]
  },
  {
   "cell_type": "code",
   "execution_count": 95,
   "id": "6a0a5a75-e8d5-4cbb-a7d2-8f10bca0b522",
   "metadata": {},
   "outputs": [],
   "source": [
    "vectorized_texts = vectorizer([clean_input])\n",
    "\n",
    "# # Pad sequence dengan panjang yg sa,a\n",
    "padded_texts = tf.keras.preprocessing.sequence.pad_sequences(vectorized_texts, maxlen=1800)"
   ]
  },
  {
   "cell_type": "code",
   "execution_count": 96,
   "id": "19d932e7-4655-4f34-8eb9-45a3487bbcf2",
   "metadata": {},
   "outputs": [
    {
     "name": "stdout",
     "output_type": "stream",
     "text": [
      "\u001b[1m1/1\u001b[0m \u001b[32m━━━━━━━━━━━━━━━━━━━━\u001b[0m\u001b[37m\u001b[0m \u001b[1m0s\u001b[0m 103ms/step\n"
     ]
    }
   ],
   "source": [
    "# predictions = model.predict(vectorized_texts)\n",
    "predictions = model.predict(padded_texts)"
   ]
  },
  {
   "cell_type": "code",
   "execution_count": 97,
   "id": "40ee3a4a-e769-4f8b-b32c-1acc0c7a9b1a",
   "metadata": {},
   "outputs": [
    {
     "data": {
      "text/plain": [
       "array([[1, 0, 0, 1, 1, 0]])"
      ]
     },
     "execution_count": 97,
     "metadata": {},
     "output_type": "execute_result"
    }
   ],
   "source": [
    "binary_predictions = (predictions > 0.5).astype(int)\n",
    "binary_predictions"
   ]
  },
  {
   "cell_type": "code",
   "execution_count": 99,
   "id": "5585b28e-7cfb-46c6-89b1-89627e96e43e",
   "metadata": {},
   "outputs": [
    {
     "data": {
      "text/plain": [
       "array([1, 0, 0, 1, 1, 0])"
      ]
     },
     "execution_count": 99,
     "metadata": {},
     "output_type": "execute_result"
    }
   ],
   "source": [
    "total_predictions = binary_predictions.sum(axis=0)\n",
    "total_predictions"
   ]
  },
  {
   "cell_type": "code",
   "execution_count": 100,
   "id": "4da15f27-e078-46e7-9beb-50fc65ddd7ad",
   "metadata": {},
   "outputs": [
    {
     "name": "stdout",
     "output_type": "stream",
     "text": [
      "toxic: 1\n",
      "sangat_toxic: 0\n",
      "cabul: 0\n",
      "ancaman: 1\n",
      "penghinaan: 1\n",
      "rasis: 0\n"
     ]
    }
   ],
   "source": [
    "for i, (label, total) in enumerate(zip(labels, total_predictions)):\n",
    "    print(f\"{label}: {total}\")"
   ]
  },
  {
   "cell_type": "code",
   "execution_count": 110,
   "id": "e360c050-99cb-40cf-8b71-68de92863db6",
   "metadata": {},
   "outputs": [
    {
     "data": {
      "text/plain": [
       "array([[0.9923132 , 0.0400334 , 0.30770442, 0.8979833 , 0.6177306 ,\n",
       "        0.0227885 ]], dtype=float32)"
      ]
     },
     "execution_count": 110,
     "metadata": {},
     "output_type": "execute_result"
    }
   ],
   "source": [
    "predictions"
   ]
  },
  {
   "cell_type": "code",
   "execution_count": 109,
   "id": "a897b949-8efd-48f9-aac9-6748458f1b52",
   "metadata": {},
   "outputs": [
    {
     "name": "stdout",
     "output_type": "stream",
     "text": [
      "Teks Input: when I'm back in the White House America's enemies will now once again  and they're going to know it  that if you try to  kill our citizens we will kill you we will kill you  I told them all that we had no problem  you know we had no problem three years ago we had no problem for four years nobody even this is Unthinkable I mean I just watch and see what's happening it's Unthinkable this couldn't have happened\n",
      "\n",
      "Label: toxic\n",
      "Prediksi: 1\n",
      "Akurasi Prediksi: 0.9923132061958313\n",
      "\n",
      "Label: ancaman\n",
      "Prediksi: 1\n",
      "Akurasi Prediksi: 0.8979833126068115\n",
      "\n",
      "Label: penghinaan\n",
      "Prediksi: 1\n",
      "Akurasi Prediksi: 0.6177306175231934\n",
      "\n"
     ]
    }
   ],
   "source": [
    "# Menampilkan teks input\n",
    "print(\"Teks Input:\", all_text)\n",
    "print()\n",
    "\n",
    "# Menampilkan hasil prediksi untuk setiap label yang bernilai 1\n",
    "for i, (label, prediction_value) in enumerate(zip(labels, predictions[0])):\n",
    "    binary_value = binary_predictions[0][i]\n",
    "    if binary_value == 1:\n",
    "        print(f\"Label: {label}\")\n",
    "        print(f\"Prediksi: {binary_value}\")\n",
    "        print(f\"Akurasi Prediksi: {prediction_value:}\")\n",
    "        print()"
   ]
  },
  {
   "cell_type": "code",
   "execution_count": null,
   "id": "c602788d-6e0b-45a9-a19c-7dff3c93f149",
   "metadata": {},
   "outputs": [],
   "source": []
  }
 ],
 "metadata": {
  "kernelspec": {
   "display_name": "Python 3 (ipykernel)",
   "language": "python",
   "name": "python3"
  },
  "language_info": {
   "codemirror_mode": {
    "name": "ipython",
    "version": 3
   },
   "file_extension": ".py",
   "mimetype": "text/x-python",
   "name": "python",
   "nbconvert_exporter": "python",
   "pygments_lexer": "ipython3",
   "version": "3.11.9"
  }
 },
 "nbformat": 4,
 "nbformat_minor": 5
}
