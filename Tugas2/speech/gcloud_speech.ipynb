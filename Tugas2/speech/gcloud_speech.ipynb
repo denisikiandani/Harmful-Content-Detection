{
 "cells": [
  {
   "metadata": {},
   "cell_type": "markdown",
   "source": [
    "# Data Science Programming\n",
    "\n",
    "**Oleh:** \\\n",
    "2105551068 - Ni Made Deni Sikiandani \\\n",
    "2105551126 - I Nyoman Yodya Mahesa Sastra\n",
    "\n",
    "**Dokumentasi Google Speech-to-Text API:** \\\n",
    "Basics: https://cloud.google.com/speech-to-text/v2/docs/basics \\\n",
    "Model: https://cloud.google.com/speech-to-text/v2/docs/transcription-model \\\n",
    "Synchronous: https://cloud.google.com/speech-to-text/v2/docs/sync-recognize \\\n",
    "Asynchronous: https://cloud.google.com/speech-to-text/v2/docs/batch-recognize \n",
    "\n",
    "**Install Library:**\\\n",
    "```pip install google-cloud-speech```\n"
   ],
   "id": "1eb9c182f0691c8d"
  },
  {
   "cell_type": "markdown",
   "id": "1ad229b79c33f617",
   "metadata": {},
   "source": "## Synchronous"
  },
  {
   "cell_type": "code",
   "id": "initial_id",
   "metadata": {
    "collapsed": true,
    "jupyter": {
     "outputs_hidden": true
    },
    "ExecuteTime": {
     "end_time": "2024-05-12T14:43:40.426460Z",
     "start_time": "2024-05-12T14:43:40.417433Z"
    }
   },
   "source": [
    "# Limitasi Synchronous:\n",
    "# ---------------------------------\n",
    "# Audio Maximum 1 Menit\n",
    "# Audio Maximum 10 MB\n",
    "# ---------------------------------\n",
    "\n",
    "# Import Library\n",
    "from google.cloud.speech_v2 import SpeechClient\n",
    "from google.cloud.speech_v2.types import cloud_speech\n",
    "from google.oauth2 import service_account\n",
    "\n",
    "\n",
    "# Function transkrip audio Synchronous\n",
    "def transcribe_file_v2(project_id: str, audio_file: str) -> cloud_speech.RecognizeResponse:\n",
    "    # Instantiates client\n",
    "    credentials = service_account.Credentials.from_service_account_file('gcloud_apikey.json')\n",
    "    client = SpeechClient(credentials=credentials)\n",
    "\n",
    "    # Baca file dalam bytes\n",
    "    with open(audio_file, \"rb\") as f:\n",
    "        content = f.read()\n",
    "\n",
    "    # Config untuk speech recognition\n",
    "    config = cloud_speech.RecognitionConfig(\n",
    "        auto_decoding_config=cloud_speech.AutoDetectDecodingConfig(),\n",
    "        language_codes=[\"en-US\"],\n",
    "        model=\"long\",\n",
    "    )\n",
    "\n",
    "    # Membentuk objek request\n",
    "    request = cloud_speech.RecognizeRequest(\n",
    "        recognizer=f\"projects/{project_id}/locations/global/recognizers/_\",\n",
    "        config=config,\n",
    "        content=content,\n",
    "    )\n",
    "\n",
    "    # Transkrip audio menjadi teks\n",
    "    response = client.recognize(request=request)\n",
    "\n",
    "    # Print respon transkrip\n",
    "    for result in response.results:\n",
    "        print(f\"Transcript: {result.alternatives[0].transcript}\")\n",
    "\n",
    "    # Return respon transkrip\n",
    "    return response"
   ],
   "outputs": [],
   "execution_count": 25
  },
  {
   "cell_type": "code",
   "id": "ec52fb93e03f4161",
   "metadata": {
    "ExecuteTime": {
     "end_time": "2024-05-12T14:43:49.720588Z",
     "start_time": "2024-05-12T14:43:41.734102Z"
    }
   },
   "source": [
    "hasil_transkrip = transcribe_file_v2(\n",
    "    project_id='data-science-programming-ti24',\n",
    "    audio_file='Cruel Summer.mp3')"
   ],
   "outputs": [
    {
     "name": "stdout",
     "output_type": "stream",
     "text": [
      "Transcript: people dream high in the quiet of the night you know that I caught it\n",
      "Transcript:  bad bad boy Sonny toy with a price you know that I brought it\n",
      "Transcript:  killing me so I've been window I'm always waiting for you to be waiting below Rebels roll the dice Angels roll their eyes but doesn't kill me makes me want you more\n"
     ]
    }
   ],
   "execution_count": 26
  },
  {
   "metadata": {
    "ExecuteTime": {
     "end_time": "2024-05-12T14:43:54.268723Z",
     "start_time": "2024-05-12T14:43:54.257594Z"
    }
   },
   "cell_type": "code",
   "source": "type(hasil_transkrip)",
   "id": "223f5df6462c3ed6",
   "outputs": [
    {
     "data": {
      "text/plain": [
       "google.cloud.speech_v2.types.cloud_speech.RecognizeResponse"
      ]
     },
     "execution_count": 27,
     "metadata": {},
     "output_type": "execute_result"
    }
   ],
   "execution_count": 27
  },
  {
   "metadata": {
    "ExecuteTime": {
     "end_time": "2024-05-12T14:44:02.540945Z",
     "start_time": "2024-05-12T14:44:02.537346Z"
    }
   },
   "cell_type": "code",
   "source": "print(hasil_transkrip)",
   "id": "faa14feaeb0e082b",
   "outputs": [
    {
     "name": "stdout",
     "output_type": "stream",
     "text": [
      "results {\n",
      "  alternatives {\n",
      "    transcript: \"people dream high in the quiet of the night you know that I caught it\"\n",
      "    confidence: 0.954112053\n",
      "  }\n",
      "  result_end_offset {\n",
      "    seconds: 5\n",
      "    nanos: 400000000\n",
      "  }\n",
      "  language_code: \"en-US\"\n",
      "}\n",
      "results {\n",
      "  alternatives {\n",
      "    transcript: \" bad bad boy Sonny toy with a price you know that I brought it\"\n",
      "    confidence: 0.86481905\n",
      "  }\n",
      "  result_end_offset {\n",
      "    seconds: 10\n",
      "    nanos: 920000000\n",
      "  }\n",
      "  language_code: \"en-US\"\n",
      "}\n",
      "results {\n",
      "  alternatives {\n",
      "    transcript: \" killing me so I\\'ve been window I\\'m always waiting for you to be waiting below Rebels roll the dice Angels roll their eyes but doesn\\'t kill me makes me want you more\"\n",
      "    confidence: 0.858393788\n",
      "  }\n",
      "  result_end_offset {\n",
      "    seconds: 22\n",
      "    nanos: 460000000\n",
      "  }\n",
      "  language_code: \"en-US\"\n",
      "}\n",
      "metadata {\n",
      "  total_billed_duration {\n",
      "    seconds: 23\n",
      "  }\n",
      "}\n",
      "\n"
     ]
    }
   ],
   "execution_count": 28
  },
  {
   "cell_type": "markdown",
   "id": "31f13426621ca577",
   "metadata": {},
   "source": "## Asynchronous\n"
  },
  {
   "cell_type": "code",
   "execution_count": null,
   "id": "8980ffce035097e9",
   "metadata": {},
   "outputs": [],
   "source": [
    "# Limitasi Synchronous:\n",
    "# ---------------------------------\n",
    "# Audio Maximum 480 Menit (8 jam)\n",
    "# Audio Wajib dari Cloud Storage\n",
    "# ---------------------------------\n",
    "\n",
    "\n"
   ]
  },
  {
   "metadata": {},
   "cell_type": "markdown",
   "source": "## Studi Kasus Transkrip Video",
   "id": "61676b760683e244"
  },
  {
   "metadata": {},
   "cell_type": "code",
   "outputs": [],
   "execution_count": null,
   "source": "",
   "id": "e223a6f19f099427"
  }
 ],
 "metadata": {
  "kernelspec": {
   "display_name": "Python 3 (ipykernel)",
   "language": "python",
   "name": "python3"
  },
  "language_info": {
   "codemirror_mode": {
    "name": "ipython",
    "version": 3
   },
   "file_extension": ".py",
   "mimetype": "text/x-python",
   "name": "python",
   "nbconvert_exporter": "python",
   "pygments_lexer": "ipython3",
   "version": "3.11.9"
  }
 },
 "nbformat": 4,
 "nbformat_minor": 5
}
