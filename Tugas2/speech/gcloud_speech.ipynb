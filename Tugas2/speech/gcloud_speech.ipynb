{
 "cells": [
  {
   "cell_type": "markdown",
   "id": "1eb9c182f0691c8d",
   "metadata": {},
   "source": [
    "# Data Science Programming\n",
    "\n",
    "**Oleh:** \\\n",
    "2105551068 - Ni Made Deni Sikiandani \\\n",
    "2105551126 - I Nyoman Yodya Mahesa Sastra\n",
    "\n",
    "**Dokumentasi Google Speech-to-Text API:** \\\n",
    "Basics: https://cloud.google.com/speech-to-text/v2/docs/basics \\\n",
    "Model: https://cloud.google.com/speech-to-text/v2/docs/transcription-model \\\n",
    "Synchronous: https://cloud.google.com/speech-to-text/v2/docs/sync-recognize \\\n",
    "Asynchronous: https://cloud.google.com/speech-to-text/v2/docs/batch-recognize \\\n",
    "Streaming: https://cloud.google.com/speech-to-text/v2/docs/streaming-recognize\n",
    "\n",
    "**Install Library:**\\\n",
    "```pip install google-cloud-speech```\\\n",
    "```pip install moviepy```\n"
   ]
  },
  {
   "cell_type": "markdown",
   "id": "1ad229b79c33f617",
   "metadata": {},
   "source": [
    "## Synchronous"
   ]
  },
  {
   "cell_type": "code",
   "execution_count": 1,
   "id": "initial_id",
   "metadata": {
    "ExecuteTime": {
     "end_time": "2024-05-14T00:10:17.398241Z",
     "start_time": "2024-05-14T00:10:16.871963Z"
    }
   },
   "outputs": [],
   "source": [
    "# Limitasi Synchronous:\n",
    "# ---------------------------------\n",
    "# Audio Maximum 1 Menit\n",
    "# Audio Maximum 10 MB\n",
    "# ---------------------------------\n",
    "\n",
    "# Import Library\n",
    "from google.cloud.speech_v2 import SpeechClient\n",
    "from google.cloud.speech_v2.types import cloud_speech\n",
    "from google.oauth2 import service_account\n",
    "\n",
    "\n",
    "# Function transkrip audio Synchronous\n",
    "def transcribe_file_v2(project_id: str, audio_file: str) -> cloud_speech.RecognizeResponse:\n",
    "    # Instantiates client\n",
    "    credentials = service_account.Credentials.from_service_account_file('gcloud_apikey.json')\n",
    "    client = SpeechClient(credentials=credentials)\n",
    "\n",
    "    # Baca file dalam bytes\n",
    "    with open(audio_file, \"rb\") as f:\n",
    "        content = f.read()\n",
    "\n",
    "    # Config untuk speech recognition\n",
    "    config = cloud_speech.RecognitionConfig(\n",
    "        auto_decoding_config=cloud_speech.AutoDetectDecodingConfig(),\n",
    "        language_codes=[\"en-US\"],\n",
    "        model=\"long\",\n",
    "    )\n",
    "\n",
    "    # Membentuk objek request\n",
    "    request = cloud_speech.RecognizeRequest(\n",
    "        recognizer=f\"projects/{project_id}/locations/global/recognizers/_\",\n",
    "        config=config,\n",
    "        content=content,\n",
    "    )\n",
    "\n",
    "    # Transkrip audio menjadi teks\n",
    "    response = client.recognize(request=request)\n",
    "\n",
    "    # Print respon transkrip\n",
    "    for result in response.results:\n",
    "        print(f\"Transcript: {result.alternatives[0].transcript}\")\n",
    "\n",
    "    # Return respon transkrip\n",
    "    return response"
   ]
  },
  {
   "cell_type": "markdown",
   "id": "31f13426621ca577",
   "metadata": {},
   "source": [
    "## Asynchronous\n"
   ]
  },
  {
   "cell_type": "code",
   "execution_count": 2,
   "id": "8980ffce035097e9",
   "metadata": {},
   "outputs": [],
   "source": [
    "# Limitasi Synchronous:\n",
    "# ---------------------------------\n",
    "# Audio Maximum 480 Menit (8 jam)\n",
    "# Audio Wajib dari Cloud Storage\n",
    "# ---------------------------------"
   ]
  },
  {
   "cell_type": "markdown",
   "id": "059b9b79-5e20-46d1-8f52-e75ec60e4454",
   "metadata": {},
   "source": [
    "## Streaming"
   ]
  },
  {
   "cell_type": "code",
   "execution_count": 3,
   "id": "0349ca22-a622-4276-b0b5-bbdddd020143",
   "metadata": {},
   "outputs": [],
   "source": [
    "# Limitasi Streaming:\n",
    "# ---------------------------------\n",
    "# Stream Audio Maximum 5 Menit\n",
    "# Stream Audio dari Microphone\n",
    "# ---------------------------------"
   ]
  },
  {
   "cell_type": "markdown",
   "id": "61676b760683e244",
   "metadata": {},
   "source": [
    "## Mengambil Transkrip dari Video\n",
    "Berikut merupakan sepotong scene video **Anime** berjudul **A Whisker Away** di saat Muge memberikan **surat cinta** kepada Hinode, namun rencananya **tidak berjalan sesuai dengan rencana**."
   ]
  },
  {
   "cell_type": "code",
   "execution_count": 4,
   "id": "9d30f848-dbe6-4ea5-afd7-a74a9998b176",
   "metadata": {
    "ExecuteTime": {
     "end_time": "2024-05-14T00:31:13.236896Z",
     "start_time": "2024-05-14T00:31:13.232090Z"
    },
    "scrolled": true
   },
   "outputs": [
    {
     "data": {
      "text/html": [
       "<video width=\"500\" controls>\n",
       "    <source src=\"./Anime.mp4\" type=\"video/mp4\">\n",
       "    <track src=\"Anime.srt\" kind=\"subtitles\">\n",
       "</video>\n"
      ],
      "text/plain": [
       "<IPython.core.display.HTML object>"
      ]
     },
     "metadata": {},
     "output_type": "display_data"
    }
   ],
   "source": [
    "%%HTML\n",
    "<video width=\"500\" controls>\n",
    "    <source src=\"./Anime.mp4\" type=\"video/mp4\">\n",
    "    <track src=\"Anime.srt\" kind=\"subtitles\">\n",
    "</video>"
   ]
  },
  {
   "cell_type": "markdown",
   "id": "8d441f09e8886424",
   "metadata": {},
   "source": [
    "### 01. Convert Video ke Audio\n",
    "Tahap pertama yaitu kita **convert** terlebih dahulu **file video** menjadi **file audio**"
   ]
  },
  {
   "cell_type": "code",
   "execution_count": 5,
   "id": "e223a6f19f099427",
   "metadata": {
    "ExecuteTime": {
     "end_time": "2024-05-14T00:10:00.075181Z",
     "start_time": "2024-05-14T00:09:56.165356Z"
    }
   },
   "outputs": [
    {
     "name": "stdout",
     "output_type": "stream",
     "text": [
      "MoviePy - Writing audio in Anime.mp3\n"
     ]
    },
    {
     "name": "stderr",
     "output_type": "stream",
     "text": [
      "                                                                                                                                                               "
     ]
    },
    {
     "name": "stdout",
     "output_type": "stream",
     "text": [
      "MoviePy - Done.\n"
     ]
    },
    {
     "name": "stderr",
     "output_type": "stream",
     "text": [
      "\r"
     ]
    }
   ],
   "source": [
    "# Import Library\n",
    "from moviepy.editor import VideoFileClip\n",
    "\n",
    "# Deklarasi input dan output\n",
    "mp4_file = \"Anime.mp4\"\n",
    "mp3_file = \"Anime.mp3\"\n",
    "\n",
    "# Load video\n",
    "video_clip = VideoFileClip(mp4_file)\n",
    "\n",
    "# Ekstrak audio dari video\n",
    "audio_clip = video_clip.audio\n",
    "\n",
    "# Simpan audio ke file\n",
    "audio_clip.write_audiofile(mp3_file)\n",
    "\n",
    "# Menutup file audio dan video\n",
    "audio_clip.close()\n",
    "video_clip.close()"
   ]
  },
  {
   "cell_type": "markdown",
   "id": "17e72d3c-193a-49f2-ab79-4d0531695069",
   "metadata": {},
   "source": [
    "### 02. Transkrip Audio dengan Google Speech API\n",
    "Tahap kedua yaitu melakukan **transkrip audio** menggunakan **Google Speech API**"
   ]
  },
  {
   "cell_type": "code",
   "execution_count": 6,
   "id": "14de0d2f-6102-4933-aee8-69f95ef38a9d",
   "metadata": {},
   "outputs": [
    {
     "name": "stdout",
     "output_type": "stream",
     "text": [
      "Transcript: she know that I I just wanted to cheer you see we you and I are the same I can't say the things that I truly feel just stop it and you're wrong we're nothing alike\n",
      "Transcript:  it's really embarrassed me\n",
      "Transcript:  have you considered my feelings at all everyone just hurt this I seriously hate pushy people like you\n",
      "Transcript:  what if I told you in person just leave me alone didn't you hear me\n",
      "Transcript:  but I hate you\n",
      "Transcript:  I see\n",
      "Transcript:  you hate me that much okay well then\n",
      "Transcript:  hey\n"
     ]
    }
   ],
   "source": [
    "## Menyimpan Hasil Transkrip\n",
    "hasil_transkrip = transcribe_file_v2(\n",
    "    project_id='data-science-programming-ti24',\n",
    "    audio_file='Anime.mp3')"
   ]
  },
  {
   "cell_type": "markdown",
   "id": "94fdb8d2-7793-431d-b258-ca6653a7f5ca",
   "metadata": {},
   "source": [
    "### 03. Menampilkan Detail Hasil Transkrip\n",
    "Tahap ketiga yaitu menampilkan **detail hasil transkrip**"
   ]
  },
  {
   "cell_type": "code",
   "execution_count": 7,
   "id": "e5b90684-8754-4063-89b6-8f9c275b962a",
   "metadata": {
    "ExecuteTime": {
     "end_time": "2024-05-14T02:16:21.826225Z",
     "start_time": "2024-05-14T02:16:21.797939Z"
    }
   },
   "outputs": [
    {
     "name": "stdout",
     "output_type": "stream",
     "text": [
      "results {\n",
      "  alternatives {\n",
      "    transcript: \"seven years into our journey as an AI first company\"\n",
      "    confidence: 0.948904216\n",
      "  }\n",
      "  result_end_offset {\n",
      "    seconds: 5\n",
      "    nanos: 90000000\n",
      "  }\n",
      "  language_code: \"en-US\"\n",
      "}\n",
      "results {\n",
      "  alternatives {\n",
      "    transcript: \" we had an exciting inflection point\"\n",
      "    confidence: 0.922289312\n",
      "  }\n",
      "  result_end_offset {\n",
      "    seconds: 7\n",
      "    nanos: 680000000\n",
      "  }\n",
      "  language_code: \"en-US\"\n",
      "}\n",
      "results {\n",
      "  alternatives {\n",
      "    transcript: \" we have an opportunity to make AI even more helpful for people for businesses for communities for everyone\"\n",
      "    confidence: 0.997168779\n",
      "  }\n",
      "  result_end_offset {\n",
      "    seconds: 18\n",
      "    nanos: 340000000\n",
      "  }\n",
      "  language_code: \"en-US\"\n",
      "}\n",
      "metadata {\n",
      "  total_billed_duration {\n",
      "    seconds: 19\n",
      "  }\n",
      "}\n",
      "\n"
     ]
    }
   ],
   "source": [
    "print(hasil_transkrip)"
   ]
  },
  {
   "cell_type": "markdown",
   "id": "91c1b7af-5272-45a6-b026-085d14b8c492",
   "metadata": {},
   "source": [
    "### 04. Menyimpan Hasil Transkrip ke List\n",
    "Tahap keempat yaitu **menyimpan hasil transkrip** ke bentuk list agar selanjutnya dapat dilakukan tahap **analisis perkataan toxicity** terhadap video tersebut"
   ]
  },
  {
   "cell_type": "code",
   "execution_count": 19,
   "id": "39368c18-a50d-4275-b900-38a80281f01b",
   "metadata": {},
   "outputs": [
    {
     "name": "stdout",
     "output_type": "stream",
     "text": [
      "she know that I I just wanted to cheer you see we you and I are the same I can't say the things that I truly feel just stop it and you're wrong we're nothing alike\n",
      " it's really embarrassed me\n",
      " have you considered my feelings at all everyone just hurt this I seriously hate pushy people like you\n",
      " what if I told you in person just leave me alone didn't you hear me\n",
      " but I hate you\n",
      " I see\n",
      " you hate me that much okay well then\n",
      " hey\n"
     ]
    }
   ],
   "source": [
    "list_hasil_transkrip = list()\n",
    "\n",
    "for hasil in hasil_transkrip.results:\n",
    "    teks = f'{hasil.alternatives[0].transcript}'\n",
    "    list_hasil_transkrip.append(teks)\n",
    "    print(teks)"
   ]
  }
 ],
 "metadata": {
  "kernelspec": {
   "display_name": "Python 3 (ipykernel)",
   "language": "python",
   "name": "python3"
  },
  "language_info": {
   "codemirror_mode": {
    "name": "ipython",
    "version": 3
   },
   "file_extension": ".py",
   "mimetype": "text/x-python",
   "name": "python",
   "nbconvert_exporter": "python",
   "pygments_lexer": "ipython3",
   "version": "3.11.9"
  }
 },
 "nbformat": 4,
 "nbformat_minor": 5
}
